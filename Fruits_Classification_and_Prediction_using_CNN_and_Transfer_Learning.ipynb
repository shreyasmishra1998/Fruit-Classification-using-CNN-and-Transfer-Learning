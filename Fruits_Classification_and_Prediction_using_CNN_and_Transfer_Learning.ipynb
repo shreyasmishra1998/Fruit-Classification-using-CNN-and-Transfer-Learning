{
  "nbformat": 4,
  "nbformat_minor": 0,
  "metadata": {
    "kernelspec": {
      "language": "python",
      "display_name": "Python 3",
      "name": "python3"
    },
    "language_info": {
      "pygments_lexer": "ipython3",
      "nbconvert_exporter": "python",
      "version": "3.6.4",
      "file_extension": ".py",
      "codemirror_mode": {
        "name": "ipython",
        "version": 3
      },
      "name": "python",
      "mimetype": "text/x-python"
    },
    "colab": {
      "name": "Fruits Classification and Prediction using CNN and Transfer Learning.ipynb",
      "provenance": [],
      "collapsed_sections": [],
      "toc_visible": true
    },
    "accelerator": "GPU"
  },
  "cells": [
    {
      "cell_type": "code",
      "metadata": {
        "id": "YUWPyNOxJHUT",
        "colab_type": "code",
        "colab": {}
      },
      "source": [
        "# Colab library to upload files to notebook\n",
        "from google.colab import files\n",
        "\n",
        "# Install Kaggle library\n",
        "!pip install -q kaggle\n",
        "\n",
        "# Upload kaggle API key file\n",
        "uploaded = files.upload()\n",
        "!pip install -q kaggle\n",
        "!mkdir -p ~/.kaggle\n",
        "!cp kaggle.json ~/.kaggle/\n",
        "!ls ~/.kaggle\n",
        "!chmod 600 /root/.kaggle/kaggle.json\n",
        "!pip uninstall -y kaggle\n",
        "!pip install --upgrade pip\n",
        "!pip install kaggle==1.5.6\n",
        "!kaggle -v\n",
        "!kaggle datasets download -d moltean/fruits"
      ],
      "execution_count": 0,
      "outputs": []
    },
    {
      "cell_type": "code",
      "metadata": {
        "id": "K9hmJE6QJy4f",
        "colab_type": "code",
        "colab": {}
      },
      "source": [
        "!unzip \\*.zip"
      ],
      "execution_count": 0,
      "outputs": []
    },
    {
      "cell_type": "code",
      "metadata": {
        "_uuid": "8f2839f25d086af736a60e9eeb907d3b93b6e0e5",
        "_cell_guid": "b1076dfc-b9ad-4769-8c92-a6c4dae69d19",
        "trusted": true,
        "id": "uLvqFRdnIJVb",
        "colab_type": "code",
        "colab": {}
      },
      "source": [
        "import numpy as np\n",
        "import pandas as pd \n",
        "import os"
      ],
      "execution_count": 0,
      "outputs": []
    },
    {
      "cell_type": "code",
      "metadata": {
        "_uuid": "d629ff2d2480ee46fbb7e2d37f6b5fab8052498a",
        "_cell_guid": "79c7e3d0-c299-4dcb-8224-4455121ee9b0",
        "trusted": true,
        "id": "Z96M107HIJVs",
        "colab_type": "code",
        "outputId": "88a3501f-2141-4a3c-d7b1-d308f44b959c",
        "colab": {
          "base_uri": "https://localhost:8080/",
          "height": 34
        }
      },
      "source": [
        "from keras.preprocessing.image import ImageDataGenerator, load_img\n",
        "from keras.utils import to_categorical\n",
        "from sklearn.model_selection import train_test_split\n",
        "import matplotlib.pyplot as plt"
      ],
      "execution_count": 4,
      "outputs": [
        {
          "output_type": "stream",
          "text": [
            "Using TensorFlow backend.\n"
          ],
          "name": "stderr"
        }
      ]
    },
    {
      "cell_type": "code",
      "metadata": {
        "trusted": true,
        "id": "Jol__1qGIJV1",
        "colab_type": "code",
        "colab": {}
      },
      "source": [
        "IMAGE_WIDTH=100\n",
        "IMAGE_HEIGHT=100\n",
        "IMAGE_SIZE=(IMAGE_WIDTH, IMAGE_HEIGHT)\n",
        "IMAGE_CHANNELS=3"
      ],
      "execution_count": 0,
      "outputs": []
    },
    {
      "cell_type": "code",
      "metadata": {
        "trusted": true,
        "id": "vnIjfb2tIJWG",
        "colab_type": "code",
        "colab": {}
      },
      "source": [
        "train_path=\"/content/fruits-360/Training\"\n",
        "test_path=\"/content/fruits-360/Test\""
      ],
      "execution_count": 0,
      "outputs": []
    },
    {
      "cell_type": "code",
      "metadata": {
        "trusted": true,
        "id": "9mfIZl24IJWP",
        "colab_type": "code",
        "colab": {}
      },
      "source": [
        "train_datagen = ImageDataGenerator(\n",
        "    rescale=1./255,\n",
        "    horizontal_flip=True)\n",
        "\n",
        "test_datagen = ImageDataGenerator(\n",
        "    rescale=1./255)\n"
      ],
      "execution_count": 0,
      "outputs": []
    },
    {
      "cell_type": "code",
      "metadata": {
        "id": "pVB4FHjvooot",
        "colab_type": "code",
        "colab": {}
      },
      "source": [
        "!mkdir '/content/val'"
      ],
      "execution_count": 0,
      "outputs": []
    },
    {
      "cell_type": "code",
      "metadata": {
        "id": "0dn4MtiqoJyu",
        "colab_type": "code",
        "outputId": "c1c2d133-e180-4455-f6eb-d9077ac961af",
        "colab": {
          "base_uri": "https://localhost:8080/",
          "height": 1000
        }
      },
      "source": [
        "import os\n",
        "\n",
        "inputpath = '/content/fruits-360/Training/'\n",
        "outputpath = '/content/val/'\n",
        "\n",
        "for dirpath, dirnames, filenames in os.walk(inputpath):\n",
        "    structure = os.path.join(outputpath, dirpath[len(inputpath):])\n",
        "    if not os.path.isdir(structure):\n",
        "        os.mkdir(structure)\n",
        "    else:\n",
        "        print(\"Folder does already exits!\")"
      ],
      "execution_count": 8,
      "outputs": [
        {
          "output_type": "stream",
          "text": [
            "Folder does already exits!\n",
            "Folder does already exits!\n",
            "Folder does already exits!\n",
            "Folder does already exits!\n",
            "Folder does already exits!\n",
            "Folder does already exits!\n",
            "Folder does already exits!\n",
            "Folder does already exits!\n",
            "Folder does already exits!\n",
            "Folder does already exits!\n",
            "Folder does already exits!\n",
            "Folder does already exits!\n",
            "Folder does already exits!\n",
            "Folder does already exits!\n",
            "Folder does already exits!\n",
            "Folder does already exits!\n",
            "Folder does already exits!\n",
            "Folder does already exits!\n",
            "Folder does already exits!\n",
            "Folder does already exits!\n",
            "Folder does already exits!\n",
            "Folder does already exits!\n",
            "Folder does already exits!\n",
            "Folder does already exits!\n",
            "Folder does already exits!\n",
            "Folder does already exits!\n",
            "Folder does already exits!\n",
            "Folder does already exits!\n",
            "Folder does already exits!\n",
            "Folder does already exits!\n",
            "Folder does already exits!\n",
            "Folder does already exits!\n",
            "Folder does already exits!\n",
            "Folder does already exits!\n",
            "Folder does already exits!\n",
            "Folder does already exits!\n",
            "Folder does already exits!\n",
            "Folder does already exits!\n",
            "Folder does already exits!\n",
            "Folder does already exits!\n",
            "Folder does already exits!\n",
            "Folder does already exits!\n",
            "Folder does already exits!\n",
            "Folder does already exits!\n",
            "Folder does already exits!\n",
            "Folder does already exits!\n",
            "Folder does already exits!\n",
            "Folder does already exits!\n",
            "Folder does already exits!\n",
            "Folder does already exits!\n",
            "Folder does already exits!\n",
            "Folder does already exits!\n",
            "Folder does already exits!\n",
            "Folder does already exits!\n",
            "Folder does already exits!\n",
            "Folder does already exits!\n",
            "Folder does already exits!\n",
            "Folder does already exits!\n",
            "Folder does already exits!\n",
            "Folder does already exits!\n",
            "Folder does already exits!\n",
            "Folder does already exits!\n",
            "Folder does already exits!\n",
            "Folder does already exits!\n",
            "Folder does already exits!\n",
            "Folder does already exits!\n",
            "Folder does already exits!\n",
            "Folder does already exits!\n",
            "Folder does already exits!\n",
            "Folder does already exits!\n",
            "Folder does already exits!\n",
            "Folder does already exits!\n",
            "Folder does already exits!\n",
            "Folder does already exits!\n",
            "Folder does already exits!\n",
            "Folder does already exits!\n",
            "Folder does already exits!\n",
            "Folder does already exits!\n",
            "Folder does already exits!\n",
            "Folder does already exits!\n",
            "Folder does already exits!\n",
            "Folder does already exits!\n",
            "Folder does already exits!\n",
            "Folder does already exits!\n",
            "Folder does already exits!\n",
            "Folder does already exits!\n",
            "Folder does already exits!\n",
            "Folder does already exits!\n",
            "Folder does already exits!\n",
            "Folder does already exits!\n",
            "Folder does already exits!\n",
            "Folder does already exits!\n",
            "Folder does already exits!\n",
            "Folder does already exits!\n",
            "Folder does already exits!\n",
            "Folder does already exits!\n",
            "Folder does already exits!\n",
            "Folder does already exits!\n",
            "Folder does already exits!\n",
            "Folder does already exits!\n",
            "Folder does already exits!\n",
            "Folder does already exits!\n",
            "Folder does already exits!\n",
            "Folder does already exits!\n",
            "Folder does already exits!\n",
            "Folder does already exits!\n",
            "Folder does already exits!\n",
            "Folder does already exits!\n",
            "Folder does already exits!\n",
            "Folder does already exits!\n",
            "Folder does already exits!\n",
            "Folder does already exits!\n",
            "Folder does already exits!\n",
            "Folder does already exits!\n",
            "Folder does already exits!\n",
            "Folder does already exits!\n",
            "Folder does already exits!\n",
            "Folder does already exits!\n",
            "Folder does already exits!\n",
            "Folder does already exits!\n",
            "Folder does already exits!\n",
            "Folder does already exits!\n",
            "Folder does already exits!\n",
            "Folder does already exits!\n",
            "Folder does already exits!\n",
            "Folder does already exits!\n",
            "Folder does already exits!\n",
            "Folder does already exits!\n",
            "Folder does already exits!\n",
            "Folder does already exits!\n",
            "Folder does already exits!\n",
            "Folder does already exits!\n"
          ],
          "name": "stdout"
        }
      ]
    },
    {
      "cell_type": "code",
      "metadata": {
        "id": "MyODnfyMpj62",
        "colab_type": "code",
        "colab": {}
      },
      "source": [
        "from glob import glob\n",
        "import shutil\n",
        "for x in os.listdir('/content/fruits-360/Training/'):\n",
        "    images = []\n",
        "    for y in glob('/content/fruits-360/Training/'+x+'/*'):\n",
        "        images.append(y)\n",
        "    shutil.move(images[-1],'/content/val/'+x)\n",
        "    del images"
      ],
      "execution_count": 0,
      "outputs": []
    },
    {
      "cell_type": "code",
      "metadata": {
        "trusted": true,
        "id": "ebLW_S-YIJWX",
        "colab_type": "code",
        "outputId": "069dac68-1e82-4a7d-d8c2-dd0294c431dc",
        "colab": {
          "base_uri": "https://localhost:8080/",
          "height": 51
        }
      },
      "source": [
        "train_generator=train_datagen.flow_from_directory(train_path,\n",
        "                                                  target_size=IMAGE_SIZE,\n",
        "                                                  batch_size=20,\n",
        "                                                  class_mode=\"categorical\"\n",
        "                                                 )\n",
        "test_generator=test_datagen.flow_from_directory(test_path,\n",
        "                                                  target_size=IMAGE_SIZE,\n",
        "                                                  batch_size=20,\n",
        "                                                  class_mode=\"categorical\"\n",
        "                                                 )"
      ],
      "execution_count": 10,
      "outputs": [
        {
          "output_type": "stream",
          "text": [
            "Found 67430 images belonging to 131 classes.\n",
            "Found 22688 images belonging to 131 classes.\n"
          ],
          "name": "stdout"
        }
      ]
    },
    {
      "cell_type": "markdown",
      "metadata": {
        "id": "nhUhZvvBIJWg",
        "colab_type": "text"
      },
      "source": [
        "# **CNN Implementation**"
      ]
    },
    {
      "cell_type": "code",
      "metadata": {
        "trusted": true,
        "id": "eOZVeHnnIJWh",
        "colab_type": "code",
        "colab": {}
      },
      "source": [
        "from tensorflow.python.keras.layers import Conv2D, MaxPooling2D, Dropout, Flatten, Dense, Activation, BatchNormalization \n",
        "from tensorflow.python.keras import Sequential \n",
        "model = Sequential() \n",
        "model.add(Conv2D(64, (3, 3), activation='relu', padding='same',input_shape=(IMAGE_WIDTH, IMAGE_HEIGHT, IMAGE_CHANNELS))) \n",
        "model.add(BatchNormalization())\n",
        "model.add(MaxPooling2D(pool_size=(2, 2))) \n",
        "model.add(Dropout(0.25)) \n",
        "\n",
        "model.add(Conv2D(64, (3, 3),padding='same', activation='relu')) \n",
        "model.add(BatchNormalization()) \n",
        "model.add(MaxPooling2D(pool_size=(2, 2))) \n",
        "model.add(Dropout(0.25)) \n",
        "\n",
        "#model.add(Conv2D(128, (3, 3),padding='same', activation='relu')) \n",
        "#model.add(BatchNormalization()) \n",
        "#model.add(MaxPooling2D(pool_size=(2, 2))) \n",
        "#model.add(Dropout(0.25)) \n",
        "\n",
        "#model.add(Conv2D(128, (3, 3),padding='same', activation='relu')) \n",
        "#model.add(BatchNormalization()) \n",
        "#model.add(MaxPooling2D(pool_size=(2, 2)))\n",
        "#model.add(Dropout(0.25)) \n",
        "\n",
        "model.add(Conv2D(128, (3, 3),padding='same', activation='relu')) \n",
        "model.add(BatchNormalization()) \n",
        "model.add(MaxPooling2D(pool_size=(2, 2))) \n",
        "model.add(Dropout(0.25)) \n",
        "\n",
        "model.add(Conv2D(256, (3, 3),padding='same', activation='relu')) \n",
        "model.add(BatchNormalization()) \n",
        "model.add(MaxPooling2D(pool_size=(2, 2))) \n",
        "model.add(Dropout(0.25)) \n",
        "\n",
        "model.add(Flatten()) \n",
        "model.add(Dense(128, activation='relu')) \n",
        "model.add(BatchNormalization()) \n",
        "model.add(Dropout(0.5))\n",
        "\n",
        "model.add(Dense(131, activation='softmax'))"
      ],
      "execution_count": 0,
      "outputs": []
    },
    {
      "cell_type": "code",
      "metadata": {
        "trusted": true,
        "id": "57vUd92WIJWr",
        "colab_type": "code",
        "outputId": "deda1e53-532e-40e0-878a-3a58e3b6b895",
        "colab": {
          "base_uri": "https://localhost:8080/",
          "height": 867
        }
      },
      "source": [
        "model.compile(loss='categorical_crossentropy', optimizer='adam', metrics=['accuracy'])\n",
        "model.summary()"
      ],
      "execution_count": 12,
      "outputs": [
        {
          "output_type": "stream",
          "text": [
            "Model: \"sequential\"\n",
            "_________________________________________________________________\n",
            "Layer (type)                 Output Shape              Param #   \n",
            "=================================================================\n",
            "conv2d (Conv2D)              (None, 100, 100, 64)      1792      \n",
            "_________________________________________________________________\n",
            "batch_normalization (BatchNo (None, 100, 100, 64)      256       \n",
            "_________________________________________________________________\n",
            "max_pooling2d (MaxPooling2D) (None, 50, 50, 64)        0         \n",
            "_________________________________________________________________\n",
            "dropout (Dropout)            (None, 50, 50, 64)        0         \n",
            "_________________________________________________________________\n",
            "conv2d_1 (Conv2D)            (None, 50, 50, 64)        36928     \n",
            "_________________________________________________________________\n",
            "batch_normalization_1 (Batch (None, 50, 50, 64)        256       \n",
            "_________________________________________________________________\n",
            "max_pooling2d_1 (MaxPooling2 (None, 25, 25, 64)        0         \n",
            "_________________________________________________________________\n",
            "dropout_1 (Dropout)          (None, 25, 25, 64)        0         \n",
            "_________________________________________________________________\n",
            "conv2d_2 (Conv2D)            (None, 25, 25, 128)       73856     \n",
            "_________________________________________________________________\n",
            "batch_normalization_2 (Batch (None, 25, 25, 128)       512       \n",
            "_________________________________________________________________\n",
            "max_pooling2d_2 (MaxPooling2 (None, 12, 12, 128)       0         \n",
            "_________________________________________________________________\n",
            "dropout_2 (Dropout)          (None, 12, 12, 128)       0         \n",
            "_________________________________________________________________\n",
            "conv2d_3 (Conv2D)            (None, 12, 12, 256)       295168    \n",
            "_________________________________________________________________\n",
            "batch_normalization_3 (Batch (None, 12, 12, 256)       1024      \n",
            "_________________________________________________________________\n",
            "max_pooling2d_3 (MaxPooling2 (None, 6, 6, 256)         0         \n",
            "_________________________________________________________________\n",
            "dropout_3 (Dropout)          (None, 6, 6, 256)         0         \n",
            "_________________________________________________________________\n",
            "flatten (Flatten)            (None, 9216)              0         \n",
            "_________________________________________________________________\n",
            "dense (Dense)                (None, 128)               1179776   \n",
            "_________________________________________________________________\n",
            "batch_normalization_4 (Batch (None, 128)               512       \n",
            "_________________________________________________________________\n",
            "dropout_4 (Dropout)          (None, 128)               0         \n",
            "_________________________________________________________________\n",
            "dense_1 (Dense)              (None, 131)               16899     \n",
            "=================================================================\n",
            "Total params: 1,606,979\n",
            "Trainable params: 1,605,699\n",
            "Non-trainable params: 1,280\n",
            "_________________________________________________________________\n"
          ],
          "name": "stdout"
        }
      ]
    },
    {
      "cell_type": "code",
      "metadata": {
        "trusted": true,
        "id": "H3uNOiB_IJW2",
        "colab_type": "code",
        "colab": {}
      },
      "source": [
        "from tensorflow.keras.callbacks import EarlyStopping, ReduceLROnPlateau,ModelCheckpoint"
      ],
      "execution_count": 0,
      "outputs": []
    },
    {
      "cell_type": "code",
      "metadata": {
        "trusted": true,
        "id": "EiBZ0EbFIJW9",
        "colab_type": "code",
        "colab": {}
      },
      "source": [
        "earlystop = EarlyStopping(patience=10)\n",
        "learning_rate_reduction = ReduceLROnPlateau(monitor='val_accuracy', \n",
        "                                            patience=2, \n",
        "                                            verbose=1, \n",
        "                                            factor=0.5, \n",
        "                                            min_lr=0.00001)\n",
        "checkpointer = ModelCheckpoint(filepath='weights1.h5', verbose=1, monitor='val_accuracy',save_weights_only=True,save_best_only=True)"
      ],
      "execution_count": 0,
      "outputs": []
    },
    {
      "cell_type": "code",
      "metadata": {
        "trusted": true,
        "id": "e8grtrd_IJXF",
        "colab_type": "code",
        "colab": {}
      },
      "source": [
        "callbacks = [earlystop, learning_rate_reduction,checkpointer]"
      ],
      "execution_count": 0,
      "outputs": []
    },
    {
      "cell_type": "code",
      "metadata": {
        "trusted": true,
        "id": "QzWa5ounIJXM",
        "colab_type": "code",
        "outputId": "5fa66a3b-132a-4e89-9a49-2f57d02a63c1",
        "colab": {
          "base_uri": "https://localhost:8080/",
          "height": 1000
        }
      },
      "source": [
        "epochs=30\n",
        "history = model.fit_generator(train_generator,validation_data=test_generator,\n",
        "                              steps_per_epoch=100,\n",
        "                              epochs=epochs,\n",
        "                              validation_steps=50,\n",
        "                              verbose=1,callbacks=callbacks)"
      ],
      "execution_count": 16,
      "outputs": [
        {
          "output_type": "stream",
          "text": [
            "WARNING:tensorflow:From <ipython-input-16-aff2124df56c>:6: Model.fit_generator (from tensorflow.python.keras.engine.training) is deprecated and will be removed in a future version.\n",
            "Instructions for updating:\n",
            "Please use Model.fit, which supports generators.\n",
            "Epoch 1/30\n",
            " 99/100 [============================>.] - ETA: 0s - loss: 4.3230 - accuracy: 0.0848\n",
            "Epoch 00001: val_accuracy improved from -inf to 0.01200, saving model to weights1.h5\n",
            "100/100 [==============================] - 5s 51ms/step - loss: 4.3204 - accuracy: 0.0855 - val_loss: 7.5303 - val_accuracy: 0.0120 - lr: 0.0010\n",
            "Epoch 2/30\n",
            " 99/100 [============================>.] - ETA: 0s - loss: 3.3991 - accuracy: 0.2096\n",
            "Epoch 00002: val_accuracy improved from 0.01200 to 0.01300, saving model to weights1.h5\n",
            "100/100 [==============================] - 5s 47ms/step - loss: 3.3963 - accuracy: 0.2095 - val_loss: 12.6627 - val_accuracy: 0.0130 - lr: 0.0010\n",
            "Epoch 3/30\n",
            " 99/100 [============================>.] - ETA: 0s - loss: 2.7856 - accuracy: 0.3313\n",
            "Epoch 00003: val_accuracy improved from 0.01300 to 0.01600, saving model to weights1.h5\n",
            "100/100 [==============================] - 5s 47ms/step - loss: 2.7831 - accuracy: 0.3300 - val_loss: 8.9114 - val_accuracy: 0.0160 - lr: 0.0010\n",
            "Epoch 4/30\n",
            " 99/100 [============================>.] - ETA: 0s - loss: 2.3429 - accuracy: 0.4172\n",
            "Epoch 00004: val_accuracy improved from 0.01600 to 0.03200, saving model to weights1.h5\n",
            "100/100 [==============================] - 5s 47ms/step - loss: 2.3440 - accuracy: 0.4160 - val_loss: 9.9975 - val_accuracy: 0.0320 - lr: 0.0010\n",
            "Epoch 5/30\n",
            " 99/100 [============================>.] - ETA: 0s - loss: 1.8600 - accuracy: 0.5404\n",
            "Epoch 00005: val_accuracy improved from 0.03200 to 0.03900, saving model to weights1.h5\n",
            "100/100 [==============================] - 5s 48ms/step - loss: 1.8614 - accuracy: 0.5410 - val_loss: 11.3336 - val_accuracy: 0.0390 - lr: 0.0010\n",
            "Epoch 6/30\n",
            " 99/100 [============================>.] - ETA: 0s - loss: 1.5245 - accuracy: 0.6273\n",
            "Epoch 00006: val_accuracy improved from 0.03900 to 0.10900, saving model to weights1.h5\n",
            "100/100 [==============================] - 5s 47ms/step - loss: 1.5217 - accuracy: 0.6270 - val_loss: 7.8255 - val_accuracy: 0.1090 - lr: 0.0010\n",
            "Epoch 7/30\n",
            "100/100 [==============================] - ETA: 0s - loss: 1.4756 - accuracy: 0.6156\n",
            "Epoch 00007: val_accuracy improved from 0.10900 to 0.30000, saving model to weights1.h5\n",
            "100/100 [==============================] - 5s 49ms/step - loss: 1.4756 - accuracy: 0.6156 - val_loss: 2.6212 - val_accuracy: 0.3000 - lr: 0.0010\n",
            "Epoch 8/30\n",
            " 99/100 [============================>.] - ETA: 0s - loss: 1.2359 - accuracy: 0.6803\n",
            "Epoch 00008: val_accuracy improved from 0.30000 to 0.73900, saving model to weights1.h5\n",
            "100/100 [==============================] - 5s 47ms/step - loss: 1.2370 - accuracy: 0.6800 - val_loss: 0.9780 - val_accuracy: 0.7390 - lr: 0.0010\n",
            "Epoch 9/30\n",
            " 99/100 [============================>.] - ETA: 0s - loss: 0.8921 - accuracy: 0.7783\n",
            "Epoch 00009: val_accuracy did not improve from 0.73900\n",
            "100/100 [==============================] - 5s 47ms/step - loss: 0.8913 - accuracy: 0.7785 - val_loss: 1.2708 - val_accuracy: 0.6380 - lr: 0.0010\n",
            "Epoch 10/30\n",
            " 99/100 [============================>.] - ETA: 0s - loss: 0.7786 - accuracy: 0.8000\n",
            "Epoch 00010: val_accuracy improved from 0.73900 to 0.84600, saving model to weights1.h5\n",
            "100/100 [==============================] - 5s 47ms/step - loss: 0.7760 - accuracy: 0.8010 - val_loss: 0.6392 - val_accuracy: 0.8460 - lr: 0.0010\n",
            "Epoch 11/30\n",
            " 99/100 [============================>.] - ETA: 0s - loss: 0.6999 - accuracy: 0.8242\n",
            "Epoch 00011: val_accuracy did not improve from 0.84600\n",
            "100/100 [==============================] - 5s 47ms/step - loss: 0.7023 - accuracy: 0.8240 - val_loss: 0.7635 - val_accuracy: 0.8110 - lr: 0.0010\n",
            "Epoch 12/30\n",
            " 99/100 [============================>.] - ETA: 0s - loss: 0.5724 - accuracy: 0.8646\n",
            "Epoch 00012: ReduceLROnPlateau reducing learning rate to 0.0005000000237487257.\n",
            "\n",
            "Epoch 00012: val_accuracy did not improve from 0.84600\n",
            "100/100 [==============================] - 5s 47ms/step - loss: 0.5729 - accuracy: 0.8650 - val_loss: 0.8783 - val_accuracy: 0.7350 - lr: 0.0010\n",
            "Epoch 13/30\n",
            " 99/100 [============================>.] - ETA: 0s - loss: 0.5212 - accuracy: 0.8732\n",
            "Epoch 00013: val_accuracy did not improve from 0.84600\n",
            "100/100 [==============================] - 5s 47ms/step - loss: 0.5247 - accuracy: 0.8725 - val_loss: 6.2679 - val_accuracy: 0.1190 - lr: 5.0000e-04\n",
            "Epoch 14/30\n",
            " 99/100 [============================>.] - ETA: 0s - loss: 0.5123 - accuracy: 0.8778\n",
            "Epoch 00014: val_accuracy improved from 0.84600 to 0.85900, saving model to weights1.h5\n",
            "100/100 [==============================] - 5s 47ms/step - loss: 0.5115 - accuracy: 0.8780 - val_loss: 0.5377 - val_accuracy: 0.8590 - lr: 5.0000e-04\n",
            "Epoch 15/30\n",
            " 99/100 [============================>.] - ETA: 0s - loss: 0.4022 - accuracy: 0.9035\n",
            "Epoch 00015: val_accuracy did not improve from 0.85900\n",
            "100/100 [==============================] - 5s 47ms/step - loss: 0.4002 - accuracy: 0.9040 - val_loss: 0.7083 - val_accuracy: 0.8120 - lr: 5.0000e-04\n",
            "Epoch 16/30\n",
            " 99/100 [============================>.] - ETA: 0s - loss: 0.3766 - accuracy: 0.8985\n",
            "Epoch 00016: ReduceLROnPlateau reducing learning rate to 0.0002500000118743628.\n",
            "\n",
            "Epoch 00016: val_accuracy did not improve from 0.85900\n",
            "100/100 [==============================] - 5s 47ms/step - loss: 0.3754 - accuracy: 0.8990 - val_loss: 1.0673 - val_accuracy: 0.8470 - lr: 5.0000e-04\n",
            "Epoch 17/30\n",
            " 99/100 [============================>.] - ETA: 0s - loss: 0.3278 - accuracy: 0.9278\n",
            "Epoch 00017: val_accuracy improved from 0.85900 to 0.88000, saving model to weights1.h5\n",
            "100/100 [==============================] - 5s 47ms/step - loss: 0.3270 - accuracy: 0.9280 - val_loss: 0.4194 - val_accuracy: 0.8800 - lr: 2.5000e-04\n",
            "Epoch 18/30\n",
            " 99/100 [============================>.] - ETA: 0s - loss: 0.2974 - accuracy: 0.9318\n",
            "Epoch 00018: val_accuracy improved from 0.88000 to 0.90500, saving model to weights1.h5\n",
            "100/100 [==============================] - 5s 47ms/step - loss: 0.2972 - accuracy: 0.9315 - val_loss: 0.3807 - val_accuracy: 0.9050 - lr: 2.5000e-04\n",
            "Epoch 19/30\n",
            " 99/100 [============================>.] - ETA: 0s - loss: 0.2815 - accuracy: 0.9424\n",
            "Epoch 00019: val_accuracy did not improve from 0.90500\n",
            "100/100 [==============================] - 5s 47ms/step - loss: 0.2823 - accuracy: 0.9420 - val_loss: 0.3771 - val_accuracy: 0.9040 - lr: 2.5000e-04\n",
            "Epoch 20/30\n",
            " 99/100 [============================>.] - ETA: 0s - loss: 0.2625 - accuracy: 0.9470\n",
            "Epoch 00020: val_accuracy improved from 0.90500 to 0.91800, saving model to weights1.h5\n",
            "100/100 [==============================] - 5s 48ms/step - loss: 0.2633 - accuracy: 0.9470 - val_loss: 0.3074 - val_accuracy: 0.9180 - lr: 2.5000e-04\n",
            "Epoch 21/30\n",
            " 99/100 [============================>.] - ETA: 0s - loss: 0.2511 - accuracy: 0.9485\n",
            "Epoch 00021: val_accuracy did not improve from 0.91800\n",
            "100/100 [==============================] - 5s 47ms/step - loss: 0.2529 - accuracy: 0.9475 - val_loss: 0.4119 - val_accuracy: 0.8880 - lr: 2.5000e-04\n",
            "Epoch 22/30\n",
            " 99/100 [============================>.] - ETA: 0s - loss: 0.2204 - accuracy: 0.9551\n",
            "Epoch 00022: ReduceLROnPlateau reducing learning rate to 0.0001250000059371814.\n",
            "\n",
            "Epoch 00022: val_accuracy did not improve from 0.91800\n",
            "100/100 [==============================] - 5s 47ms/step - loss: 0.2203 - accuracy: 0.9550 - val_loss: 0.3253 - val_accuracy: 0.9130 - lr: 2.5000e-04\n",
            "Epoch 23/30\n",
            " 99/100 [============================>.] - ETA: 0s - loss: 0.2240 - accuracy: 0.9535\n",
            "Epoch 00023: val_accuracy improved from 0.91800 to 0.91900, saving model to weights1.h5\n",
            "100/100 [==============================] - 5s 47ms/step - loss: 0.2243 - accuracy: 0.9540 - val_loss: 0.3318 - val_accuracy: 0.9190 - lr: 1.2500e-04\n",
            "Epoch 24/30\n",
            " 99/100 [============================>.] - ETA: 0s - loss: 0.2438 - accuracy: 0.9485\n",
            "Epoch 00024: val_accuracy did not improve from 0.91900\n",
            "100/100 [==============================] - 5s 46ms/step - loss: 0.2479 - accuracy: 0.9470 - val_loss: 0.2770 - val_accuracy: 0.9150 - lr: 1.2500e-04\n",
            "Epoch 25/30\n",
            " 99/100 [============================>.] - ETA: 0s - loss: 0.2075 - accuracy: 0.9586\n",
            "Epoch 00025: ReduceLROnPlateau reducing learning rate to 6.25000029685907e-05.\n",
            "\n",
            "Epoch 00025: val_accuracy did not improve from 0.91900\n",
            "100/100 [==============================] - 5s 47ms/step - loss: 0.2076 - accuracy: 0.9585 - val_loss: 0.3318 - val_accuracy: 0.9070 - lr: 1.2500e-04\n",
            "Epoch 26/30\n",
            " 99/100 [============================>.] - ETA: 0s - loss: 0.2019 - accuracy: 0.9606\n",
            "Epoch 00026: val_accuracy improved from 0.91900 to 0.92000, saving model to weights1.h5\n",
            "100/100 [==============================] - 5s 47ms/step - loss: 0.2010 - accuracy: 0.9610 - val_loss: 0.3061 - val_accuracy: 0.9200 - lr: 6.2500e-05\n",
            "Epoch 27/30\n",
            " 99/100 [============================>.] - ETA: 0s - loss: 0.1918 - accuracy: 0.9687\n",
            "Epoch 00027: val_accuracy improved from 0.92000 to 0.93400, saving model to weights1.h5\n",
            "100/100 [==============================] - 5s 47ms/step - loss: 0.1915 - accuracy: 0.9685 - val_loss: 0.2457 - val_accuracy: 0.9340 - lr: 6.2500e-05\n",
            "Epoch 28/30\n",
            " 99/100 [============================>.] - ETA: 0s - loss: 0.1697 - accuracy: 0.9742\n",
            "Epoch 00028: val_accuracy did not improve from 0.93400\n",
            "100/100 [==============================] - 5s 47ms/step - loss: 0.1711 - accuracy: 0.9730 - val_loss: 0.2557 - val_accuracy: 0.9190 - lr: 6.2500e-05\n",
            "Epoch 29/30\n",
            " 99/100 [============================>.] - ETA: 0s - loss: 0.1901 - accuracy: 0.9576\n",
            "Epoch 00029: ReduceLROnPlateau reducing learning rate to 3.125000148429535e-05.\n",
            "\n",
            "Epoch 00029: val_accuracy did not improve from 0.93400\n",
            "100/100 [==============================] - 5s 47ms/step - loss: 0.1901 - accuracy: 0.9575 - val_loss: 0.2979 - val_accuracy: 0.9200 - lr: 6.2500e-05\n",
            "Epoch 30/30\n",
            " 99/100 [============================>.] - ETA: 0s - loss: 0.1896 - accuracy: 0.9571\n",
            "Epoch 00030: val_accuracy did not improve from 0.93400\n",
            "100/100 [==============================] - 5s 47ms/step - loss: 0.1912 - accuracy: 0.9560 - val_loss: 0.2578 - val_accuracy: 0.9260 - lr: 3.1250e-05\n"
          ],
          "name": "stdout"
        }
      ]
    },
    {
      "cell_type": "code",
      "metadata": {
        "trusted": true,
        "id": "oLFp-grcIJXW",
        "colab_type": "code",
        "colab": {}
      },
      "source": [
        "model.load_weights(\"weights1.h5\")"
      ],
      "execution_count": 0,
      "outputs": []
    },
    {
      "cell_type": "code",
      "metadata": {
        "trusted": true,
        "id": "uAWxDuR_IJXc",
        "colab_type": "code",
        "outputId": "d7e2d6d5-bcf4-45d2-b090-212de49edd2a",
        "colab": {
          "base_uri": "https://localhost:8080/",
          "height": 297
        }
      },
      "source": [
        "fig, (ax1, ax2) = plt.subplots(1, 2)\n",
        "ax1.plot(history.history['loss'], color='b', label=\"Training loss\")\n",
        "ax1.plot(history.history['val_loss'], color='r', label=\"validation loss\")\n",
        "ax1.set_xticks(np.arange(1, epochs, 1))\n",
        "ax1.set_yticks(np.arange(0, 1, 0.1))\n",
        "\n",
        "ax2.plot(history.history['accuracy'], color='b', label=\"Training accuracy\")\n",
        "ax2.plot(history.history['val_accuracy'], color='r',label=\"Validation accuracy\")\n",
        "ax2.set_xticks(np.arange(1, epochs, 1))\n",
        "\n",
        "legend = plt.legend(loc='best', shadow=True)\n",
        "plt.tight_layout()\n",
        "plt.show()"
      ],
      "execution_count": 18,
      "outputs": [
        {
          "output_type": "display_data",
          "data": {
            "image/png": "[encoded data removed]",
            "text/plain": [
              "<Figure size 432x288 with 2 Axes>"
            ]
          },
          "metadata": {
            "tags": [],
            "needs_background": "light"
          }
        }
      ]
    },
    {
      "cell_type": "code",
      "metadata": {
        "trusted": true,
        "id": "HSXJSl0JIJXl",
        "colab_type": "code",
        "colab": {}
      },
      "source": [
        "#Simple CNN implementation gave an accuracy of around 95.3%"
      ],
      "execution_count": 0,
      "outputs": []
    },
    {
      "cell_type": "code",
      "metadata": {
        "trusted": true,
        "id": "Y8BVdnCXIJXt",
        "colab_type": "code",
        "colab": {}
      },
      "source": [
        ""
      ],
      "execution_count": 0,
      "outputs": []
    },
    {
      "cell_type": "markdown",
      "metadata": {
        "id": "xtvseHZKIJX1",
        "colab_type": "text"
      },
      "source": [
        "# **Transfer Learning Implementation**"
      ]
    },
    {
      "cell_type": "markdown",
      "metadata": {
        "id": "OgVQF5dAIJX2",
        "colab_type": "text"
      },
      "source": [
        "InceptionV3"
      ]
    },
    {
      "cell_type": "code",
      "metadata": {
        "trusted": true,
        "id": "cKKf2Sl3IJX4",
        "colab_type": "code",
        "outputId": "f350c8c9-9c74-4893-ecab-f573603b23b6",
        "colab": {
          "base_uri": "https://localhost:8080/",
          "height": 224
        }
      },
      "source": [
        "!wget --no-check-certificate \\\n",
        "    https://storage.googleapis.com/mledu-datasets/inception_v3_weights_tf_dim_ordering_tf_kernels_notop.h5 \\\n",
        "    -O /tmp/inception_v3_weights_tf_dim_ordering_tf_kernels_notop.h5\n",
        "  \n",
        "from tensorflow.keras.applications.inception_v3 import InceptionV3\n",
        "\n",
        "local_weights_file = '/tmp/inception_v3_weights_tf_dim_ordering_tf_kernels_notop.h5'\n",
        "\n",
        "pre_trained_model = InceptionV3(input_shape = (IMAGE_WIDTH, IMAGE_HEIGHT, IMAGE_CHANNELS), \n",
        "                                include_top = False, \n",
        "                                weights = None)\n",
        "\n",
        "pre_trained_model.load_weights(local_weights_file)\n",
        "\n",
        "for layer in pre_trained_model.layers:\n",
        "  layer.trainable = False"
      ],
      "execution_count": 19,
      "outputs": [
        {
          "output_type": "stream",
          "text": [
            "--2020-06-02 04:50:01--  https://storage.googleapis.com/mledu-datasets/inception_v3_weights_tf_dim_ordering_tf_kernels_notop.h5\n",
            "Resolving storage.googleapis.com (storage.googleapis.com)... 74.125.203.128, 2404:6800:4008:c01::80\n",
            "Connecting to storage.googleapis.com (storage.googleapis.com)|74.125.203.128|:443... connected.\n",
            "HTTP request sent, awaiting response... 200 OK\n",
            "Length: 87910968 (84M) [application/x-hdf]\n",
            "Saving to: ‘/tmp/inception_v3_weights_tf_dim_ordering_tf_kernels_notop.h5’\n",
            "\n",
            "\r          /tmp/ince   0%[                    ]       0  --.-KB/s               \r         /tmp/incep  29%[====>               ]  25.05M   125MB/s               \r        /tmp/incept  71%[=============>      ]  59.92M   150MB/s               \r/tmp/inception_v3_w 100%[===================>]  83.84M   156MB/s    in 0.5s    \n",
            "\n",
            "2020-06-02 04:50:01 (156 MB/s) - ‘/tmp/inception_v3_weights_tf_dim_ordering_tf_kernels_notop.h5’ saved [87910968/87910968]\n",
            "\n"
          ],
          "name": "stdout"
        }
      ]
    },
    {
      "cell_type": "code",
      "metadata": {
        "trusted": true,
        "id": "g74K7uLqIJX_",
        "colab_type": "code",
        "colab": {}
      },
      "source": [
        ""
      ],
      "execution_count": 0,
      "outputs": []
    },
    {
      "cell_type": "code",
      "metadata": {
        "trusted": true,
        "id": "hptsOrtAIJYG",
        "colab_type": "code",
        "colab": {}
      },
      "source": [
        "from tensorflow.keras import layers\n",
        "from tensorflow.keras import Model\n",
        "last_layer = pre_trained_model.get_layer('mixed7')\n",
        "last_output = last_layer.output\n",
        "x = layers.Flatten()(last_output)\n",
        "x = layers.Dense(1024, activation='relu')(x)\n",
        "x = layers.Dropout(0.2)(x)                  \n",
        "x = layers.Dense  (131, activation='softmax')(x)           \n",
        "\n",
        "model1 = Model( pre_trained_model.input, x) \n",
        "\n",
        "model1.compile(loss = 'categorical_crossentropy', optimizer='adam', metrics=['accuracy'])"
      ],
      "execution_count": 0,
      "outputs": []
    },
    {
      "cell_type": "code",
      "metadata": {
        "trusted": true,
        "id": "4rTC2bRaIJYN",
        "colab_type": "code",
        "outputId": "7c527321-c4a1-4426-c19a-192189c69b75",
        "colab": {
          "base_uri": "https://localhost:8080/",
          "height": 1000
        }
      },
      "source": [
        "epochs=30\n",
        "history = model1.fit(train_generator,\n",
        "                              validation_data=test_generator,\n",
        "                              steps_per_epoch=100,\n",
        "                              epochs=epochs,\n",
        "                              validation_steps=50,\n",
        "                              verbose=1,callbacks=callbacks)"
      ],
      "execution_count": 21,
      "outputs": [
        {
          "output_type": "stream",
          "text": [
            "Epoch 1/30\n",
            " 99/100 [============================>.] - ETA: 0s - loss: 3.0636 - accuracy: 0.4040\n",
            "Epoch 00001: val_accuracy did not improve from 0.93400\n",
            "100/100 [==============================] - 6s 59ms/step - loss: 3.0493 - accuracy: 0.4065 - val_loss: 1.6808 - val_accuracy: 0.6030 - lr: 0.0010\n",
            "Epoch 2/30\n",
            " 99/100 [============================>.] - ETA: 0s - loss: 0.9663 - accuracy: 0.7303\n",
            "Epoch 00002: val_accuracy did not improve from 0.93400\n",
            "100/100 [==============================] - 5s 48ms/step - loss: 0.9675 - accuracy: 0.7305 - val_loss: 1.0611 - val_accuracy: 0.7140 - lr: 0.0010\n",
            "Epoch 3/30\n",
            " 99/100 [============================>.] - ETA: 0s - loss: 0.5252 - accuracy: 0.8444\n",
            "Epoch 00003: val_accuracy did not improve from 0.93400\n",
            "100/100 [==============================] - 5s 48ms/step - loss: 0.5271 - accuracy: 0.8435 - val_loss: 0.5961 - val_accuracy: 0.8400 - lr: 0.0010\n",
            "Epoch 4/30\n",
            " 99/100 [============================>.] - ETA: 0s - loss: 0.3619 - accuracy: 0.8949\n",
            "Epoch 00004: val_accuracy did not improve from 0.93400\n",
            "100/100 [==============================] - 5s 48ms/step - loss: 0.3635 - accuracy: 0.8940 - val_loss: 0.6779 - val_accuracy: 0.8250 - lr: 0.0010\n",
            "Epoch 5/30\n",
            " 99/100 [============================>.] - ETA: 0s - loss: 0.2735 - accuracy: 0.9187\n",
            "Epoch 00005: val_accuracy did not improve from 0.93400\n",
            "100/100 [==============================] - 5s 48ms/step - loss: 0.2715 - accuracy: 0.9195 - val_loss: 0.6085 - val_accuracy: 0.8510 - lr: 0.0010\n",
            "Epoch 6/30\n",
            " 99/100 [============================>.] - ETA: 0s - loss: 0.2353 - accuracy: 0.9338\n",
            "Epoch 00006: val_accuracy did not improve from 0.93400\n",
            "100/100 [==============================] - 5s 49ms/step - loss: 0.2331 - accuracy: 0.9345 - val_loss: 0.4176 - val_accuracy: 0.8770 - lr: 0.0010\n",
            "Epoch 7/30\n",
            " 99/100 [============================>.] - ETA: 0s - loss: 0.1909 - accuracy: 0.9409\n",
            "Epoch 00007: val_accuracy did not improve from 0.93400\n",
            "100/100 [==============================] - 5s 48ms/step - loss: 0.1919 - accuracy: 0.9405 - val_loss: 0.5032 - val_accuracy: 0.8740 - lr: 0.0010\n",
            "Epoch 8/30\n",
            " 99/100 [============================>.] - ETA: 0s - loss: 0.1911 - accuracy: 0.9515\n",
            "Epoch 00008: val_accuracy did not improve from 0.93400\n",
            "100/100 [==============================] - 5s 48ms/step - loss: 0.1899 - accuracy: 0.9515 - val_loss: 0.4152 - val_accuracy: 0.9010 - lr: 0.0010\n",
            "Epoch 9/30\n",
            " 99/100 [============================>.] - ETA: 0s - loss: 0.1745 - accuracy: 0.9500\n",
            "Epoch 00009: val_accuracy did not improve from 0.93400\n",
            "100/100 [==============================] - 5s 48ms/step - loss: 0.1729 - accuracy: 0.9505 - val_loss: 0.5444 - val_accuracy: 0.8680 - lr: 0.0010\n",
            "Epoch 10/30\n",
            " 99/100 [============================>.] - ETA: 0s - loss: 0.1827 - accuracy: 0.9485\n",
            "Epoch 00010: val_accuracy did not improve from 0.93400\n",
            "100/100 [==============================] - 5s 48ms/step - loss: 0.1849 - accuracy: 0.9480 - val_loss: 0.4342 - val_accuracy: 0.9020 - lr: 0.0010\n",
            "Epoch 11/30\n",
            " 99/100 [============================>.] - ETA: 0s - loss: 0.1443 - accuracy: 0.9485\n",
            "Epoch 00011: val_accuracy did not improve from 0.93400\n",
            "100/100 [==============================] - 5s 51ms/step - loss: 0.1444 - accuracy: 0.9485 - val_loss: 0.5630 - val_accuracy: 0.8760 - lr: 0.0010\n",
            "Epoch 12/30\n",
            " 99/100 [============================>.] - ETA: 0s - loss: 0.1332 - accuracy: 0.9576\n",
            "Epoch 00012: ReduceLROnPlateau reducing learning rate to 0.0005000000237487257.\n",
            "\n",
            "Epoch 00012: val_accuracy did not improve from 0.93400\n",
            "100/100 [==============================] - 5s 49ms/step - loss: 0.1322 - accuracy: 0.9580 - val_loss: 0.4909 - val_accuracy: 0.8800 - lr: 0.0010\n",
            "Epoch 13/30\n",
            " 99/100 [============================>.] - ETA: 0s - loss: 0.0663 - accuracy: 0.9783\n",
            "Epoch 00013: val_accuracy did not improve from 0.93400\n",
            "100/100 [==============================] - 5s 48ms/step - loss: 0.0663 - accuracy: 0.9780 - val_loss: 0.3512 - val_accuracy: 0.9190 - lr: 5.0000e-04\n",
            "Epoch 14/30\n",
            " 99/100 [============================>.] - ETA: 0s - loss: 0.0583 - accuracy: 0.9864\n",
            "Epoch 00014: val_accuracy improved from 0.93400 to 0.93600, saving model to weights1.h5\n",
            "100/100 [==============================] - 5s 53ms/step - loss: 0.0585 - accuracy: 0.9860 - val_loss: 0.2123 - val_accuracy: 0.9360 - lr: 5.0000e-04\n",
            "Epoch 15/30\n",
            " 99/100 [============================>.] - ETA: 0s - loss: 0.0351 - accuracy: 0.9899\n",
            "Epoch 00015: val_accuracy improved from 0.93600 to 0.94000, saving model to weights1.h5\n",
            "100/100 [==============================] - 5s 53ms/step - loss: 0.0349 - accuracy: 0.9900 - val_loss: 0.2608 - val_accuracy: 0.9400 - lr: 5.0000e-04\n",
            "Epoch 16/30\n",
            " 99/100 [============================>.] - ETA: 0s - loss: 0.0324 - accuracy: 0.9914\n",
            "Epoch 00016: val_accuracy did not improve from 0.94000\n",
            "100/100 [==============================] - 5s 49ms/step - loss: 0.0321 - accuracy: 0.9915 - val_loss: 0.2814 - val_accuracy: 0.9260 - lr: 5.0000e-04\n",
            "Epoch 17/30\n",
            " 99/100 [============================>.] - ETA: 0s - loss: 0.0327 - accuracy: 0.9879\n",
            "Epoch 00017: val_accuracy improved from 0.94000 to 0.94300, saving model to weights1.h5\n",
            "100/100 [==============================] - 5s 53ms/step - loss: 0.0324 - accuracy: 0.9880 - val_loss: 0.2267 - val_accuracy: 0.9430 - lr: 5.0000e-04\n",
            "Epoch 18/30\n",
            " 99/100 [============================>.] - ETA: 0s - loss: 0.0247 - accuracy: 0.9939\n",
            "Epoch 00018: val_accuracy improved from 0.94300 to 0.95400, saving model to weights1.h5\n",
            "100/100 [==============================] - 5s 53ms/step - loss: 0.0259 - accuracy: 0.9930 - val_loss: 0.1728 - val_accuracy: 0.9540 - lr: 5.0000e-04\n",
            "Epoch 19/30\n",
            " 99/100 [============================>.] - ETA: 0s - loss: 0.0329 - accuracy: 0.9914\n",
            "Epoch 00019: val_accuracy did not improve from 0.95400\n",
            "100/100 [==============================] - 5s 49ms/step - loss: 0.0326 - accuracy: 0.9915 - val_loss: 0.2265 - val_accuracy: 0.9520 - lr: 5.0000e-04\n",
            "Epoch 20/30\n",
            " 99/100 [============================>.] - ETA: 0s - loss: 0.0186 - accuracy: 0.9955\n",
            "Epoch 00020: ReduceLROnPlateau reducing learning rate to 0.0002500000118743628.\n",
            "\n",
            "Epoch 00020: val_accuracy did not improve from 0.95400\n",
            "100/100 [==============================] - 5s 49ms/step - loss: 0.0185 - accuracy: 0.9955 - val_loss: 0.2855 - val_accuracy: 0.9440 - lr: 5.0000e-04\n",
            "Epoch 21/30\n",
            " 99/100 [============================>.] - ETA: 0s - loss: 0.0282 - accuracy: 0.9924\n",
            "Epoch 00021: val_accuracy did not improve from 0.95400\n",
            "100/100 [==============================] - 5s 48ms/step - loss: 0.0279 - accuracy: 0.9925 - val_loss: 0.2696 - val_accuracy: 0.9360 - lr: 2.5000e-04\n",
            "Epoch 22/30\n",
            " 99/100 [============================>.] - ETA: 0s - loss: 0.0165 - accuracy: 0.9949\n",
            "Epoch 00022: ReduceLROnPlateau reducing learning rate to 0.0001250000059371814.\n",
            "\n",
            "Epoch 00022: val_accuracy did not improve from 0.95400\n",
            "100/100 [==============================] - 5s 48ms/step - loss: 0.0164 - accuracy: 0.9950 - val_loss: 0.1942 - val_accuracy: 0.9500 - lr: 2.5000e-04\n",
            "Epoch 23/30\n",
            " 99/100 [============================>.] - ETA: 0s - loss: 0.0209 - accuracy: 0.9939\n",
            "Epoch 00023: val_accuracy did not improve from 0.95400\n",
            "100/100 [==============================] - 5s 49ms/step - loss: 0.0207 - accuracy: 0.9940 - val_loss: 0.1889 - val_accuracy: 0.9540 - lr: 1.2500e-04\n",
            "Epoch 24/30\n",
            " 99/100 [============================>.] - ETA: 0s - loss: 0.0158 - accuracy: 0.9960\n",
            "Epoch 00024: val_accuracy improved from 0.95400 to 0.95900, saving model to weights1.h5\n",
            "100/100 [==============================] - 5s 53ms/step - loss: 0.0157 - accuracy: 0.9960 - val_loss: 0.1437 - val_accuracy: 0.9590 - lr: 1.2500e-04\n",
            "Epoch 25/30\n",
            " 99/100 [============================>.] - ETA: 0s - loss: 0.0114 - accuracy: 0.9970\n",
            "Epoch 00025: val_accuracy did not improve from 0.95900\n",
            "100/100 [==============================] - 5s 50ms/step - loss: 0.0114 - accuracy: 0.9970 - val_loss: 0.1647 - val_accuracy: 0.9520 - lr: 1.2500e-04\n",
            "Epoch 26/30\n",
            " 99/100 [============================>.] - ETA: 0s - loss: 0.0104 - accuracy: 0.9970\n",
            "Epoch 00026: ReduceLROnPlateau reducing learning rate to 6.25000029685907e-05.\n",
            "\n",
            "Epoch 00026: val_accuracy did not improve from 0.95900\n",
            "100/100 [==============================] - 5s 49ms/step - loss: 0.0103 - accuracy: 0.9970 - val_loss: 0.2269 - val_accuracy: 0.9520 - lr: 1.2500e-04\n",
            "Epoch 27/30\n",
            " 99/100 [============================>.] - ETA: 0s - loss: 0.0082 - accuracy: 0.9990\n",
            "Epoch 00027: val_accuracy did not improve from 0.95900\n",
            "100/100 [==============================] - 5s 48ms/step - loss: 0.0082 - accuracy: 0.9990 - val_loss: 0.1585 - val_accuracy: 0.9590 - lr: 6.2500e-05\n",
            "Epoch 28/30\n",
            " 99/100 [============================>.] - ETA: 0s - loss: 0.0113 - accuracy: 0.9970\n",
            "Epoch 00028: val_accuracy improved from 0.95900 to 0.96700, saving model to weights1.h5\n",
            "100/100 [==============================] - 5s 53ms/step - loss: 0.0112 - accuracy: 0.9970 - val_loss: 0.1631 - val_accuracy: 0.9670 - lr: 6.2500e-05\n",
            "Epoch 29/30\n",
            " 99/100 [============================>.] - ETA: 0s - loss: 0.0122 - accuracy: 0.9970\n",
            "Epoch 00029: val_accuracy did not improve from 0.96700\n",
            "100/100 [==============================] - 5s 49ms/step - loss: 0.0121 - accuracy: 0.9970 - val_loss: 0.1599 - val_accuracy: 0.9540 - lr: 6.2500e-05\n",
            "Epoch 30/30\n",
            " 99/100 [============================>.] - ETA: 0s - loss: 0.0113 - accuracy: 0.9970\n",
            "Epoch 00030: ReduceLROnPlateau reducing learning rate to 3.125000148429535e-05.\n",
            "\n",
            "Epoch 00030: val_accuracy did not improve from 0.96700\n",
            "100/100 [==============================] - 5s 49ms/step - loss: 0.0112 - accuracy: 0.9970 - val_loss: 0.1591 - val_accuracy: 0.9640 - lr: 6.2500e-05\n"
          ],
          "name": "stdout"
        }
      ]
    },
    {
      "cell_type": "code",
      "metadata": {
        "id": "uRvDzTJVVUG5",
        "colab_type": "code",
        "colab": {
          "base_uri": "https://localhost:8080/",
          "height": 297
        },
        "outputId": "97bcce3a-723c-4479-ae23-10a8624d5f78"
      },
      "source": [
        "fig, (ax1, ax2) = plt.subplots(1, 2)\n",
        "ax1.plot(history.history['loss'], color='b', label=\"Training loss\")\n",
        "ax1.plot(history.history['val_loss'], color='r', label=\"validation loss\")\n",
        "ax1.set_xticks(np.arange(1, epochs, 1))\n",
        "ax1.set_yticks(np.arange(0, 1, 0.1))\n",
        "\n",
        "ax2.plot(history.history['accuracy'], color='b', label=\"Training accuracy\")\n",
        "ax2.plot(history.history['val_accuracy'], color='r',label=\"Validation accuracy\")\n",
        "ax2.set_xticks(np.arange(1, epochs, 1))\n",
        "\n",
        "legend = plt.legend(loc='best', shadow=True)\n",
        "plt.tight_layout()\n",
        "plt.show()"
      ],
      "execution_count": 22,
      "outputs": [
        {
          "output_type": "display_data",
          "data": {
            "image/png": "[encoded data removed]",
            "text/plain": [
              "<Figure size 432x288 with 2 Axes>"
            ]
          },
          "metadata": {
            "tags": [],
            "needs_background": "light"
          }
        }
      ]
    },
    {
      "cell_type": "code",
      "metadata": {
        "trusted": true,
        "id": "O2ZroVL6IJYV",
        "colab_type": "code",
        "colab": {}
      },
      "source": [
        "#InceptionV3 overfits the data and cannot be used."
      ],
      "execution_count": 0,
      "outputs": []
    },
    {
      "cell_type": "markdown",
      "metadata": {
        "id": "C17brSI_IJYb",
        "colab_type": "text"
      },
      "source": [
        "VGG16"
      ]
    },
    {
      "cell_type": "code",
      "metadata": {
        "trusted": true,
        "id": "10R-ZJZ8IJYd",
        "colab_type": "code",
        "colab": {}
      },
      "source": [
        "from keras.applications.vgg16 import VGG16"
      ],
      "execution_count": 0,
      "outputs": []
    },
    {
      "cell_type": "code",
      "metadata": {
        "trusted": true,
        "id": "5kIF2wieIJYk",
        "colab_type": "code",
        "colab": {}
      },
      "source": [
        ""
      ],
      "execution_count": 0,
      "outputs": []
    },
    {
      "cell_type": "code",
      "metadata": {
        "trusted": true,
        "id": "V_jfzpE6IJYt",
        "colab_type": "code",
        "colab": {}
      },
      "source": [
        "import tensorflow as tf\n",
        "model2 = tf.keras.applications.VGG16(\n",
        "    include_top=False, weights='imagenet', input_tensor=None, input_shape=(IMAGE_WIDTH, IMAGE_HEIGHT, IMAGE_CHANNELS),\n",
        "    pooling='max'\n",
        ")\n",
        "\n",
        "\n",
        "    \n",
        "#for layers in model2.layers:\n",
        "#    layers_trainable = False\n",
        "\n",
        "#model2.add(Dense(131, activation = \"softmax\"))"
      ],
      "execution_count": 0,
      "outputs": []
    },
    {
      "cell_type": "code",
      "metadata": {
        "trusted": true,
        "id": "X1MygahOIJY6",
        "colab_type": "code",
        "colab": {}
      },
      "source": [
        "for layer in model2.layers:\n",
        "  layer.trainable = False\n",
        "\n",
        "last_layer = model2.get_layer('block5_pool')\n",
        "last_output = last_layer.output\n",
        "x = layers.Flatten()(last_output)\n",
        "x = layers.Dense(512, activation='relu')(x)\n",
        "x = layers.Dropout(0.2)(x)                  \n",
        "x = layers.Dense  (131, activation='softmax')(x) \n",
        "\n",
        "model2 = Model( model2.input, x)"
      ],
      "execution_count": 0,
      "outputs": []
    },
    {
      "cell_type": "code",
      "metadata": {
        "trusted": true,
        "id": "TmMc8vAPIJZD",
        "colab_type": "code",
        "colab": {}
      },
      "source": [
        "model2.compile(loss = 'categorical_crossentropy', optimizer='adam', metrics=['accuracy'])"
      ],
      "execution_count": 0,
      "outputs": []
    },
    {
      "cell_type": "code",
      "metadata": {
        "trusted": true,
        "id": "9GXfUSabIJZL",
        "colab_type": "code",
        "outputId": "a760c622-6974-43bc-8ff0-c8943103b936",
        "colab": {
          "base_uri": "https://localhost:8080/",
          "height": 1000
        }
      },
      "source": [
        "epochs=30\n",
        "history = model2.fit(train_generator,\n",
        "                              validation_data=test_generator,\n",
        "                              steps_per_epoch=100,\n",
        "                              epochs=epochs,\n",
        "                              validation_steps=50,\n",
        "                              verbose=1,callbacks=callbacks)"
      ],
      "execution_count": 27,
      "outputs": [
        {
          "output_type": "stream",
          "text": [
            "Epoch 1/30\n",
            "100/100 [==============================] - ETA: 0s - loss: 4.1685 - accuracy: 0.1540\n",
            "Epoch 00001: val_accuracy did not improve from 0.96700\n",
            "100/100 [==============================] - 10s 104ms/step - loss: 4.1685 - accuracy: 0.1540 - val_loss: 3.2670 - val_accuracy: 0.2580 - lr: 0.0010\n",
            "Epoch 2/30\n",
            "100/100 [==============================] - ETA: 0s - loss: 2.5306 - accuracy: 0.4140\n",
            "Epoch 00002: val_accuracy did not improve from 0.96700\n",
            "100/100 [==============================] - 10s 101ms/step - loss: 2.5306 - accuracy: 0.4140 - val_loss: 2.0761 - val_accuracy: 0.5150 - lr: 0.0010\n",
            "Epoch 3/30\n",
            "100/100 [==============================] - ETA: 0s - loss: 1.6779 - accuracy: 0.5800\n",
            "Epoch 00003: val_accuracy did not improve from 0.96700\n",
            "100/100 [==============================] - 10s 101ms/step - loss: 1.6779 - accuracy: 0.5800 - val_loss: 1.5449 - val_accuracy: 0.6580 - lr: 0.0010\n",
            "Epoch 4/30\n",
            "100/100 [==============================] - ETA: 0s - loss: 1.1113 - accuracy: 0.7275\n",
            "Epoch 00004: val_accuracy did not improve from 0.96700\n",
            "100/100 [==============================] - 10s 102ms/step - loss: 1.1113 - accuracy: 0.7275 - val_loss: 1.2381 - val_accuracy: 0.6970 - lr: 0.0010\n",
            "Epoch 5/30\n",
            "100/100 [==============================] - ETA: 0s - loss: 0.8846 - accuracy: 0.7625\n",
            "Epoch 00005: val_accuracy did not improve from 0.96700\n",
            "100/100 [==============================] - 10s 102ms/step - loss: 0.8846 - accuracy: 0.7625 - val_loss: 0.9342 - val_accuracy: 0.7970 - lr: 0.0010\n",
            "Epoch 6/30\n",
            "100/100 [==============================] - ETA: 0s - loss: 0.7081 - accuracy: 0.8180\n",
            "Epoch 00006: val_accuracy did not improve from 0.96700\n",
            "100/100 [==============================] - 10s 102ms/step - loss: 0.7081 - accuracy: 0.8180 - val_loss: 0.8680 - val_accuracy: 0.7960 - lr: 0.0010\n",
            "Epoch 7/30\n",
            "100/100 [==============================] - ETA: 0s - loss: 0.5774 - accuracy: 0.8450\n",
            "Epoch 00007: val_accuracy did not improve from 0.96700\n",
            "100/100 [==============================] - 10s 102ms/step - loss: 0.5774 - accuracy: 0.8450 - val_loss: 0.7330 - val_accuracy: 0.8220 - lr: 0.0010\n",
            "Epoch 8/30\n",
            "100/100 [==============================] - ETA: 0s - loss: 0.4335 - accuracy: 0.8875\n",
            "Epoch 00008: val_accuracy did not improve from 0.96700\n",
            "100/100 [==============================] - 10s 102ms/step - loss: 0.4335 - accuracy: 0.8875 - val_loss: 0.5818 - val_accuracy: 0.8520 - lr: 0.0010\n",
            "Epoch 9/30\n",
            "100/100 [==============================] - ETA: 0s - loss: 0.3569 - accuracy: 0.9060\n",
            "Epoch 00009: val_accuracy did not improve from 0.96700\n",
            "100/100 [==============================] - 10s 102ms/step - loss: 0.3569 - accuracy: 0.9060 - val_loss: 0.6856 - val_accuracy: 0.8190 - lr: 0.0010\n",
            "Epoch 10/30\n",
            "100/100 [==============================] - ETA: 0s - loss: 0.3486 - accuracy: 0.9025\n",
            "Epoch 00010: val_accuracy did not improve from 0.96700\n",
            "100/100 [==============================] - 10s 102ms/step - loss: 0.3486 - accuracy: 0.9025 - val_loss: 0.5807 - val_accuracy: 0.8550 - lr: 0.0010\n",
            "Epoch 11/30\n",
            "100/100 [==============================] - ETA: 0s - loss: 0.3154 - accuracy: 0.9150\n",
            "Epoch 00011: val_accuracy did not improve from 0.96700\n",
            "100/100 [==============================] - 10s 102ms/step - loss: 0.3154 - accuracy: 0.9150 - val_loss: 0.6163 - val_accuracy: 0.8450 - lr: 0.0010\n",
            "Epoch 12/30\n",
            "100/100 [==============================] - ETA: 0s - loss: 0.2836 - accuracy: 0.9195\n",
            "Epoch 00012: val_accuracy did not improve from 0.96700\n",
            "100/100 [==============================] - 10s 102ms/step - loss: 0.2836 - accuracy: 0.9195 - val_loss: 0.5014 - val_accuracy: 0.8690 - lr: 0.0010\n",
            "Epoch 13/30\n",
            "100/100 [==============================] - ETA: 0s - loss: 0.2424 - accuracy: 0.9380\n",
            "Epoch 00013: val_accuracy did not improve from 0.96700\n",
            "100/100 [==============================] - 10s 102ms/step - loss: 0.2424 - accuracy: 0.9380 - val_loss: 0.4174 - val_accuracy: 0.8960 - lr: 0.0010\n",
            "Epoch 14/30\n",
            "100/100 [==============================] - ETA: 0s - loss: 0.2067 - accuracy: 0.9445\n",
            "Epoch 00014: val_accuracy did not improve from 0.96700\n",
            "100/100 [==============================] - 10s 102ms/step - loss: 0.2067 - accuracy: 0.9445 - val_loss: 0.4495 - val_accuracy: 0.8810 - lr: 0.0010\n",
            "Epoch 15/30\n",
            "100/100 [==============================] - ETA: 0s - loss: 0.1967 - accuracy: 0.9470\n",
            "Epoch 00015: val_accuracy did not improve from 0.96700\n",
            "100/100 [==============================] - 10s 102ms/step - loss: 0.1967 - accuracy: 0.9470 - val_loss: 0.4425 - val_accuracy: 0.8980 - lr: 0.0010\n",
            "Epoch 16/30\n",
            "100/100 [==============================] - ETA: 0s - loss: 0.1738 - accuracy: 0.9555\n",
            "Epoch 00016: val_accuracy did not improve from 0.96700\n",
            "100/100 [==============================] - 10s 102ms/step - loss: 0.1738 - accuracy: 0.9555 - val_loss: 0.2791 - val_accuracy: 0.9240 - lr: 0.0010\n",
            "Epoch 17/30\n",
            "100/100 [==============================] - ETA: 0s - loss: 0.1844 - accuracy: 0.9480\n",
            "Epoch 00017: val_accuracy did not improve from 0.96700\n",
            "100/100 [==============================] - 10s 102ms/step - loss: 0.1844 - accuracy: 0.9480 - val_loss: 0.3600 - val_accuracy: 0.9160 - lr: 0.0010\n",
            "Epoch 18/30\n",
            "100/100 [==============================] - ETA: 0s - loss: 0.1854 - accuracy: 0.9492\n",
            "Epoch 00018: ReduceLROnPlateau reducing learning rate to 0.0005000000237487257.\n",
            "\n",
            "Epoch 00018: val_accuracy did not improve from 0.96700\n",
            "100/100 [==============================] - 11s 106ms/step - loss: 0.1854 - accuracy: 0.9492 - val_loss: 0.3601 - val_accuracy: 0.9130 - lr: 0.0010\n",
            "Epoch 19/30\n",
            "100/100 [==============================] - ETA: 0s - loss: 0.1290 - accuracy: 0.9700\n",
            "Epoch 00019: val_accuracy did not improve from 0.96700\n",
            "100/100 [==============================] - 10s 102ms/step - loss: 0.1290 - accuracy: 0.9700 - val_loss: 0.2186 - val_accuracy: 0.9360 - lr: 5.0000e-04\n",
            "Epoch 20/30\n",
            "100/100 [==============================] - ETA: 0s - loss: 0.0950 - accuracy: 0.9775\n",
            "Epoch 00020: val_accuracy did not improve from 0.96700\n",
            "100/100 [==============================] - 10s 102ms/step - loss: 0.0950 - accuracy: 0.9775 - val_loss: 0.2750 - val_accuracy: 0.9190 - lr: 5.0000e-04\n",
            "Epoch 21/30\n",
            "100/100 [==============================] - ETA: 0s - loss: 0.0892 - accuracy: 0.9815\n",
            "Epoch 00021: ReduceLROnPlateau reducing learning rate to 0.0002500000118743628.\n",
            "\n",
            "Epoch 00021: val_accuracy did not improve from 0.96700\n",
            "100/100 [==============================] - 10s 102ms/step - loss: 0.0892 - accuracy: 0.9815 - val_loss: 0.2497 - val_accuracy: 0.9340 - lr: 5.0000e-04\n",
            "Epoch 22/30\n",
            "100/100 [==============================] - ETA: 0s - loss: 0.0828 - accuracy: 0.9850\n",
            "Epoch 00022: val_accuracy did not improve from 0.96700\n",
            "100/100 [==============================] - 10s 102ms/step - loss: 0.0828 - accuracy: 0.9850 - val_loss: 0.2870 - val_accuracy: 0.9190 - lr: 2.5000e-04\n",
            "Epoch 23/30\n",
            "100/100 [==============================] - ETA: 0s - loss: 0.0758 - accuracy: 0.9845\n",
            "Epoch 00023: ReduceLROnPlateau reducing learning rate to 0.0001250000059371814.\n",
            "\n",
            "Epoch 00023: val_accuracy did not improve from 0.96700\n",
            "100/100 [==============================] - 10s 103ms/step - loss: 0.0758 - accuracy: 0.9845 - val_loss: 0.2464 - val_accuracy: 0.9330 - lr: 2.5000e-04\n",
            "Epoch 24/30\n",
            "100/100 [==============================] - ETA: 0s - loss: 0.0668 - accuracy: 0.9860\n",
            "Epoch 00024: val_accuracy did not improve from 0.96700\n",
            "100/100 [==============================] - 10s 102ms/step - loss: 0.0668 - accuracy: 0.9860 - val_loss: 0.2462 - val_accuracy: 0.9340 - lr: 1.2500e-04\n",
            "Epoch 25/30\n",
            "100/100 [==============================] - ETA: 0s - loss: 0.0637 - accuracy: 0.9855\n",
            "Epoch 00025: val_accuracy did not improve from 0.96700\n",
            "100/100 [==============================] - 10s 102ms/step - loss: 0.0637 - accuracy: 0.9855 - val_loss: 0.2144 - val_accuracy: 0.9480 - lr: 1.2500e-04\n",
            "Epoch 26/30\n",
            "100/100 [==============================] - ETA: 0s - loss: 0.0621 - accuracy: 0.9885\n",
            "Epoch 00026: val_accuracy did not improve from 0.96700\n",
            "100/100 [==============================] - 10s 102ms/step - loss: 0.0621 - accuracy: 0.9885 - val_loss: 0.2575 - val_accuracy: 0.9260 - lr: 1.2500e-04\n",
            "Epoch 27/30\n",
            "100/100 [==============================] - ETA: 0s - loss: 0.0581 - accuracy: 0.9900\n",
            "Epoch 00027: ReduceLROnPlateau reducing learning rate to 6.25000029685907e-05.\n",
            "\n",
            "Epoch 00027: val_accuracy did not improve from 0.96700\n",
            "100/100 [==============================] - 10s 102ms/step - loss: 0.0581 - accuracy: 0.9900 - val_loss: 0.2014 - val_accuracy: 0.9470 - lr: 1.2500e-04\n",
            "Epoch 28/30\n",
            "100/100 [==============================] - ETA: 0s - loss: 0.0655 - accuracy: 0.9890\n",
            "Epoch 00028: val_accuracy did not improve from 0.96700\n",
            "100/100 [==============================] - 10s 103ms/step - loss: 0.0655 - accuracy: 0.9890 - val_loss: 0.2349 - val_accuracy: 0.9370 - lr: 6.2500e-05\n",
            "Epoch 29/30\n",
            "100/100 [==============================] - ETA: 0s - loss: 0.0642 - accuracy: 0.9885\n",
            "Epoch 00029: ReduceLROnPlateau reducing learning rate to 3.125000148429535e-05.\n",
            "\n",
            "Epoch 00029: val_accuracy did not improve from 0.96700\n",
            "100/100 [==============================] - 10s 102ms/step - loss: 0.0642 - accuracy: 0.9885 - val_loss: 0.2034 - val_accuracy: 0.9450 - lr: 6.2500e-05\n",
            "Epoch 30/30\n",
            "100/100 [==============================] - ETA: 0s - loss: 0.0602 - accuracy: 0.9875\n",
            "Epoch 00030: val_accuracy did not improve from 0.96700\n",
            "100/100 [==============================] - 10s 102ms/step - loss: 0.0602 - accuracy: 0.9875 - val_loss: 0.2269 - val_accuracy: 0.9400 - lr: 3.1250e-05\n"
          ],
          "name": "stdout"
        }
      ]
    },
    {
      "cell_type": "code",
      "metadata": {
        "trusted": true,
        "id": "NGAxEDKTIJZS",
        "colab_type": "code",
        "outputId": "b67acaf6-0d2c-4641-cc2b-26515e516f5e",
        "colab": {
          "base_uri": "https://localhost:8080/",
          "height": 297
        }
      },
      "source": [
        "fig, (ax1, ax2) = plt.subplots(1, 2)\n",
        "ax1.plot(history.history['loss'], color='b', label=\"Training loss\")\n",
        "ax1.plot(history.history['val_loss'], color='r', label=\"validation loss\")\n",
        "ax1.set_xticks(np.arange(1, epochs, 1))\n",
        "ax1.set_yticks(np.arange(0, 1, 0.1))\n",
        "\n",
        "ax2.plot(history.history['accuracy'], color='b', label=\"Training accuracy\")\n",
        "ax2.plot(history.history['val_accuracy'], color='r',label=\"Validation accuracy\")\n",
        "ax2.set_xticks(np.arange(1, epochs, 1))\n",
        "\n",
        "legend = plt.legend(loc='best', shadow=True)\n",
        "plt.tight_layout()\n",
        "plt.show()"
      ],
      "execution_count": 28,
      "outputs": [
        {
          "output_type": "display_data",
          "data": {
            "image/png": "[encoded data removed]",
            "text/plain": [
              "<Figure size 432x288 with 2 Axes>"
            ]
          },
          "metadata": {
            "tags": [],
            "needs_background": "light"
          }
        }
      ]
    },
    {
      "cell_type": "code",
      "metadata": {
        "trusted": true,
        "id": "A41y1uXlIJZa",
        "colab_type": "code",
        "colab": {}
      },
      "source": [
        "#VGG16 worked fine enough with an accuracy of around 95.5%"
      ],
      "execution_count": 0,
      "outputs": []
    },
    {
      "cell_type": "code",
      "metadata": {
        "trusted": true,
        "id": "iL_XZfHiIJZj",
        "colab_type": "code",
        "outputId": "3f2488d6-be92-46d2-efea-5d654abd7bf1",
        "colab": {
          "base_uri": "https://localhost:8080/",
          "height": 34
        }
      },
      "source": [
        "from glob import glob\n",
        "a = len(glob('/content/val/*/*'))\n",
        "print(a)"
      ],
      "execution_count": 30,
      "outputs": [
        {
          "output_type": "stream",
          "text": [
            "262\n"
          ],
          "name": "stdout"
        }
      ]
    },
    {
      "cell_type": "code",
      "metadata": {
        "trusted": true,
        "id": "hQy8hFWUIJZt",
        "colab_type": "code",
        "outputId": "1c05d292-b70f-4e66-993b-99fe54c2dfbd",
        "colab": {
          "base_uri": "https://localhost:8080/",
          "height": 51
        }
      },
      "source": [
        "input_path=\"/content/val/\"#enter input path for the image to be checked.\n",
        "testing_datagen = ImageDataGenerator(\n",
        "    rescale=1./255)\n",
        "testing_generator = testing_datagen.flow_from_directory(\n",
        "    directory=input_path,\n",
        "    target_size=IMAGE_SIZE,\n",
        "    color_mode=\"rgb\",\n",
        "    batch_size=32,\n",
        "    class_mode=None,\n",
        "    shuffle=False\n",
        ")\n",
        "\n",
        "pred=model.predict(testing_generator,verbose=1,steps=a/32)\n",
        "predicted_class_indices=np.argmax(pred,axis=1)"
      ],
      "execution_count": 23,
      "outputs": [
        {
          "output_type": "stream",
          "text": [
            "Found 131 images belonging to 131 classes.\n",
            "5/4 [====================================] - 0s 17ms/step\n"
          ],
          "name": "stdout"
        }
      ]
    },
    {
      "cell_type": "code",
      "metadata": {
        "id": "FvFc1p7eKk7_",
        "colab_type": "code",
        "colab": {
          "base_uri": "https://localhost:8080/",
          "height": 1000
        },
        "outputId": "1ca6740c-7524-4598-cd97-f2f8989ab2bf"
      },
      "source": [
        "from sklearn.metrics import classification_report\n",
        "print(classification_report(testing_generator.classes, predicted_class_indices,\n",
        "\ttarget_names=testing_generator.class_indices.keys()))"
      ],
      "execution_count": 24,
      "outputs": [
        {
          "output_type": "stream",
          "text": [
            "                     precision    recall  f1-score   support\n",
            "\n",
            "     Apple Braeburn       1.00      1.00      1.00         1\n",
            " Apple Crimson Snow       1.00      1.00      1.00         1\n",
            "     Apple Golden 1       0.50      1.00      0.67         1\n",
            "     Apple Golden 2       1.00      1.00      1.00         1\n",
            "     Apple Golden 3       1.00      1.00      1.00         1\n",
            " Apple Granny Smith       1.00      1.00      1.00         1\n",
            "    Apple Pink Lady       1.00      1.00      1.00         1\n",
            "        Apple Red 1       1.00      1.00      1.00         1\n",
            "        Apple Red 2       1.00      1.00      1.00         1\n",
            "        Apple Red 3       1.00      1.00      1.00         1\n",
            "Apple Red Delicious       1.00      1.00      1.00         1\n",
            " Apple Red Yellow 1       1.00      1.00      1.00         1\n",
            " Apple Red Yellow 2       1.00      1.00      1.00         1\n",
            "            Apricot       1.00      1.00      1.00         1\n",
            "            Avocado       1.00      1.00      1.00         1\n",
            "       Avocado ripe       1.00      1.00      1.00         1\n",
            "             Banana       1.00      1.00      1.00         1\n",
            " Banana Lady Finger       1.00      1.00      1.00         1\n",
            "         Banana Red       1.00      1.00      1.00         1\n",
            "           Beetroot       1.00      1.00      1.00         1\n",
            "          Blueberry       1.00      1.00      1.00         1\n",
            "       Cactus fruit       1.00      1.00      1.00         1\n",
            "       Cantaloupe 1       1.00      1.00      1.00         1\n",
            "       Cantaloupe 2       1.00      1.00      1.00         1\n",
            "          Carambula       1.00      1.00      1.00         1\n",
            "        Cauliflower       1.00      1.00      1.00         1\n",
            "           Cherry 1       1.00      1.00      1.00         1\n",
            "           Cherry 2       1.00      1.00      1.00         1\n",
            "     Cherry Rainier       1.00      1.00      1.00         1\n",
            "   Cherry Wax Black       1.00      1.00      1.00         1\n",
            "     Cherry Wax Red       1.00      1.00      1.00         1\n",
            "  Cherry Wax Yellow       1.00      1.00      1.00         1\n",
            "           Chestnut       1.00      1.00      1.00         1\n",
            "         Clementine       1.00      1.00      1.00         1\n",
            "              Cocos       1.00      1.00      1.00         1\n",
            "               Corn       1.00      1.00      1.00         1\n",
            "          Corn Husk       1.00      1.00      1.00         1\n",
            "      Cucumber Ripe       1.00      1.00      1.00         1\n",
            "    Cucumber Ripe 2       1.00      1.00      1.00         1\n",
            "              Dates       1.00      1.00      1.00         1\n",
            "           Eggplant       1.00      1.00      1.00         1\n",
            "                Fig       1.00      1.00      1.00         1\n",
            "        Ginger Root       1.00      1.00      1.00         1\n",
            "         Granadilla       1.00      1.00      1.00         1\n",
            "         Grape Blue       1.00      1.00      1.00         1\n",
            "         Grape Pink       1.00      1.00      1.00         1\n",
            "        Grape White       1.00      1.00      1.00         1\n",
            "      Grape White 2       1.00      1.00      1.00         1\n",
            "      Grape White 3       1.00      1.00      1.00         1\n",
            "      Grape White 4       1.00      1.00      1.00         1\n",
            "    Grapefruit Pink       1.00      1.00      1.00         1\n",
            "   Grapefruit White       1.00      1.00      1.00         1\n",
            "              Guava       1.00      1.00      1.00         1\n",
            "           Hazelnut       1.00      1.00      1.00         1\n",
            "        Huckleberry       1.00      1.00      1.00         1\n",
            "               Kaki       1.00      1.00      1.00         1\n",
            "               Kiwi       1.00      1.00      1.00         1\n",
            "           Kohlrabi       1.00      1.00      1.00         1\n",
            "           Kumquats       1.00      1.00      1.00         1\n",
            "              Lemon       1.00      1.00      1.00         1\n",
            "        Lemon Meyer       1.00      1.00      1.00         1\n",
            "              Limes       1.00      1.00      1.00         1\n",
            "             Lychee       1.00      1.00      1.00         1\n",
            "          Mandarine       1.00      1.00      1.00         1\n",
            "              Mango       1.00      1.00      1.00         1\n",
            "          Mango Red       1.00      1.00      1.00         1\n",
            "          Mangostan       1.00      1.00      1.00         1\n",
            "           Maracuja       0.00      0.00      0.00         1\n",
            " Melon Piel de Sapo       1.00      1.00      1.00         1\n",
            "           Mulberry       1.00      1.00      1.00         1\n",
            "          Nectarine       1.00      1.00      1.00         1\n",
            "     Nectarine Flat       1.00      1.00      1.00         1\n",
            "         Nut Forest       1.00      1.00      1.00         1\n",
            "          Nut Pecan       1.00      1.00      1.00         1\n",
            "          Onion Red       1.00      1.00      1.00         1\n",
            "   Onion Red Peeled       1.00      1.00      1.00         1\n",
            "        Onion White       1.00      1.00      1.00         1\n",
            "             Orange       1.00      1.00      1.00         1\n",
            "             Papaya       1.00      1.00      1.00         1\n",
            "      Passion Fruit       1.00      1.00      1.00         1\n",
            "              Peach       1.00      1.00      1.00         1\n",
            "            Peach 2       1.00      1.00      1.00         1\n",
            "         Peach Flat       1.00      1.00      1.00         1\n",
            "               Pear       1.00      1.00      1.00         1\n",
            "             Pear 2       1.00      1.00      1.00         1\n",
            "         Pear Abate       1.00      1.00      1.00         1\n",
            "       Pear Forelle       1.00      1.00      1.00         1\n",
            "        Pear Kaiser       1.00      1.00      1.00         1\n",
            "       Pear Monster       1.00      1.00      1.00         1\n",
            "           Pear Red       1.00      1.00      1.00         1\n",
            "         Pear Stone       1.00      1.00      1.00         1\n",
            "      Pear Williams       1.00      1.00      1.00         1\n",
            "             Pepino       1.00      1.00      1.00         1\n",
            "       Pepper Green       1.00      1.00      1.00         1\n",
            "      Pepper Orange       1.00      1.00      1.00         1\n",
            "         Pepper Red       1.00      1.00      1.00         1\n",
            "      Pepper Yellow       1.00      1.00      1.00         1\n",
            "           Physalis       1.00      1.00      1.00         1\n",
            " Physalis with Husk       1.00      1.00      1.00         1\n",
            "          Pineapple       1.00      1.00      1.00         1\n",
            "     Pineapple Mini       1.00      1.00      1.00         1\n",
            "       Pitahaya Red       1.00      1.00      1.00         1\n",
            "               Plum       1.00      1.00      1.00         1\n",
            "             Plum 2       1.00      1.00      1.00         1\n",
            "             Plum 3       1.00      1.00      1.00         1\n",
            "        Pomegranate       1.00      1.00      1.00         1\n",
            "     Pomelo Sweetie       1.00      1.00      1.00         1\n",
            "         Potato Red       1.00      1.00      1.00         1\n",
            "  Potato Red Washed       1.00      1.00      1.00         1\n",
            "       Potato Sweet       1.00      1.00      1.00         1\n",
            "       Potato White       1.00      1.00      1.00         1\n",
            "             Quince       1.00      1.00      1.00         1\n",
            "           Rambutan       1.00      1.00      1.00         1\n",
            "          Raspberry       1.00      1.00      1.00         1\n",
            "         Redcurrant       1.00      1.00      1.00         1\n",
            "              Salak       1.00      1.00      1.00         1\n",
            "         Strawberry       1.00      1.00      1.00         1\n",
            "   Strawberry Wedge       1.00      1.00      1.00         1\n",
            "          Tamarillo       1.00      1.00      1.00         1\n",
            "            Tangelo       1.00      1.00      1.00         1\n",
            "           Tomato 1       1.00      1.00      1.00         1\n",
            "           Tomato 2       0.50      1.00      0.67         1\n",
            "           Tomato 3       0.00      0.00      0.00         1\n",
            "           Tomato 4       1.00      1.00      1.00         1\n",
            "  Tomato Cherry Red       1.00      1.00      1.00         1\n",
            "       Tomato Heart       1.00      1.00      1.00         1\n",
            "      Tomato Maroon       1.00      1.00      1.00         1\n",
            "      Tomato Yellow       1.00      1.00      1.00         1\n",
            " Tomato not Ripened       1.00      1.00      1.00         1\n",
            "             Walnut       1.00      1.00      1.00         1\n",
            "         Watermelon       1.00      1.00      1.00         1\n",
            "\n",
            "           accuracy                           0.98       131\n",
            "          macro avg       0.98      0.98      0.98       131\n",
            "       weighted avg       0.98      0.98      0.98       131\n",
            "\n"
          ],
          "name": "stdout"
        },
        {
          "output_type": "stream",
          "text": [
            "/usr/local/lib/python3.6/dist-packages/sklearn/metrics/_classification.py:1272: UndefinedMetricWarning: Precision and F-score are ill-defined and being set to 0.0 in labels with no predicted samples. Use `zero_division` parameter to control this behavior.\n",
            "  _warn_prf(average, modifier, msg_start, len(result))\n"
          ],
          "name": "stderr"
        }
      ]
    },
    {
      "cell_type": "code",
      "metadata": {
        "id": "lQo8Op5ivTn6",
        "colab_type": "code",
        "colab": {}
      },
      "source": [
        "labels = (train_generator.class_indices)\n",
        "labels = dict((v,k) for k,v in labels.items())\n",
        "predictions = [labels[k] for k in predicted_class_indices]\n",
        "#dataframe\n",
        "filenames=testing_generator.filenames\n",
        "results=pd.DataFrame({\"Filename\":filenames,\n",
        "                      \"Predictions\":predictions})\n",
        "results.to_csv('FruitSubmitCNN.csv',index=False)"
      ],
      "execution_count": 0,
      "outputs": []
    },
    {
      "cell_type": "code",
      "metadata": {
        "id": "KNw13oFwcgGR",
        "colab_type": "code",
        "outputId": "bf4fb63a-4bad-4bac-9feb-cfc35c38b70f",
        "colab": {
          "base_uri": "https://localhost:8080/",
          "height": 1000
        }
      },
      "source": [
        "input_path=\"/content/val/\"#enter input path for the image to be checked.\n",
        "testing_datagen = ImageDataGenerator(\n",
        "    rescale=1./255)\n",
        "testing_generator = testing_datagen.flow_from_directory(\n",
        "    directory=input_path,\n",
        "    target_size=IMAGE_SIZE,\n",
        "    color_mode=\"rgb\",\n",
        "    batch_size=32,\n",
        "    class_mode=None,\n",
        "    shuffle=False\n",
        ")\n",
        "\n",
        "pred=model1.predict(testing_generator,verbose=1,steps=a/32)\n",
        "predicted_class_indices=np.argmax(pred,axis=1)\n",
        "\n",
        "print(classification_report(testing_generator.classes, predicted_class_indices,\n",
        "\ttarget_names=testing_generator.class_indices.keys()))\n",
        "\n",
        "labels = (train_generator.class_indices)\n",
        "labels = dict((v,k) for k,v in labels.items())\n",
        "predictions = [labels[k] for k in predicted_class_indices]\n",
        "\n",
        "\n",
        "#dataframe\n",
        "filenames=testing_generator.filenames\n",
        "results=pd.DataFrame({\"Filename\":filenames,\n",
        "                      \"Predictions\":predictions})\n",
        "results.to_csv('FruitSubmitInception.csv',index=False)\n"
      ],
      "execution_count": 32,
      "outputs": [
        {
          "output_type": "stream",
          "text": [
            "Found 131 images belonging to 131 classes.\n",
            "5/4 [====================================] - 0s 34ms/step\n",
            "                     precision    recall  f1-score   support\n",
            "\n",
            "     Apple Braeburn       1.00      1.00      1.00         1\n",
            " Apple Crimson Snow       1.00      1.00      1.00         1\n",
            "     Apple Golden 1       1.00      1.00      1.00         1\n",
            "     Apple Golden 2       1.00      1.00      1.00         1\n",
            "     Apple Golden 3       1.00      1.00      1.00         1\n",
            " Apple Granny Smith       1.00      1.00      1.00         1\n",
            "    Apple Pink Lady       1.00      1.00      1.00         1\n",
            "        Apple Red 1       1.00      1.00      1.00         1\n",
            "        Apple Red 2       1.00      1.00      1.00         1\n",
            "        Apple Red 3       1.00      1.00      1.00         1\n",
            "Apple Red Delicious       1.00      1.00      1.00         1\n",
            " Apple Red Yellow 1       1.00      1.00      1.00         1\n",
            " Apple Red Yellow 2       1.00      1.00      1.00         1\n",
            "            Apricot       1.00      1.00      1.00         1\n",
            "            Avocado       1.00      1.00      1.00         1\n",
            "       Avocado ripe       1.00      1.00      1.00         1\n",
            "             Banana       1.00      1.00      1.00         1\n",
            " Banana Lady Finger       1.00      1.00      1.00         1\n",
            "         Banana Red       1.00      1.00      1.00         1\n",
            "           Beetroot       1.00      1.00      1.00         1\n",
            "          Blueberry       1.00      1.00      1.00         1\n",
            "       Cactus fruit       1.00      1.00      1.00         1\n",
            "       Cantaloupe 1       1.00      1.00      1.00         1\n",
            "       Cantaloupe 2       1.00      1.00      1.00         1\n",
            "          Carambula       1.00      1.00      1.00         1\n",
            "        Cauliflower       1.00      1.00      1.00         1\n",
            "           Cherry 1       1.00      1.00      1.00         1\n",
            "           Cherry 2       1.00      1.00      1.00         1\n",
            "     Cherry Rainier       1.00      1.00      1.00         1\n",
            "   Cherry Wax Black       1.00      1.00      1.00         1\n",
            "     Cherry Wax Red       1.00      1.00      1.00         1\n",
            "  Cherry Wax Yellow       1.00      1.00      1.00         1\n",
            "           Chestnut       1.00      1.00      1.00         1\n",
            "         Clementine       1.00      1.00      1.00         1\n",
            "              Cocos       1.00      1.00      1.00         1\n",
            "               Corn       1.00      1.00      1.00         1\n",
            "          Corn Husk       1.00      1.00      1.00         1\n",
            "      Cucumber Ripe       1.00      1.00      1.00         1\n",
            "    Cucumber Ripe 2       1.00      1.00      1.00         1\n",
            "              Dates       1.00      1.00      1.00         1\n",
            "           Eggplant       1.00      1.00      1.00         1\n",
            "                Fig       1.00      1.00      1.00         1\n",
            "        Ginger Root       1.00      1.00      1.00         1\n",
            "         Granadilla       1.00      1.00      1.00         1\n",
            "         Grape Blue       1.00      1.00      1.00         1\n",
            "         Grape Pink       1.00      1.00      1.00         1\n",
            "        Grape White       1.00      1.00      1.00         1\n",
            "      Grape White 2       1.00      1.00      1.00         1\n",
            "      Grape White 3       1.00      1.00      1.00         1\n",
            "      Grape White 4       1.00      1.00      1.00         1\n",
            "    Grapefruit Pink       1.00      1.00      1.00         1\n",
            "   Grapefruit White       1.00      1.00      1.00         1\n",
            "              Guava       1.00      1.00      1.00         1\n",
            "           Hazelnut       1.00      1.00      1.00         1\n",
            "        Huckleberry       1.00      1.00      1.00         1\n",
            "               Kaki       1.00      1.00      1.00         1\n",
            "               Kiwi       1.00      1.00      1.00         1\n",
            "           Kohlrabi       1.00      1.00      1.00         1\n",
            "           Kumquats       1.00      1.00      1.00         1\n",
            "              Lemon       1.00      1.00      1.00         1\n",
            "        Lemon Meyer       1.00      1.00      1.00         1\n",
            "              Limes       1.00      1.00      1.00         1\n",
            "             Lychee       1.00      1.00      1.00         1\n",
            "          Mandarine       1.00      1.00      1.00         1\n",
            "              Mango       1.00      1.00      1.00         1\n",
            "          Mango Red       1.00      1.00      1.00         1\n",
            "          Mangostan       1.00      1.00      1.00         1\n",
            "           Maracuja       1.00      1.00      1.00         1\n",
            " Melon Piel de Sapo       1.00      1.00      1.00         1\n",
            "           Mulberry       1.00      1.00      1.00         1\n",
            "          Nectarine       1.00      1.00      1.00         1\n",
            "     Nectarine Flat       1.00      1.00      1.00         1\n",
            "         Nut Forest       1.00      1.00      1.00         1\n",
            "          Nut Pecan       1.00      1.00      1.00         1\n",
            "          Onion Red       1.00      1.00      1.00         1\n",
            "   Onion Red Peeled       1.00      1.00      1.00         1\n",
            "        Onion White       1.00      1.00      1.00         1\n",
            "             Orange       1.00      1.00      1.00         1\n",
            "             Papaya       1.00      1.00      1.00         1\n",
            "      Passion Fruit       1.00      1.00      1.00         1\n",
            "              Peach       1.00      1.00      1.00         1\n",
            "            Peach 2       1.00      1.00      1.00         1\n",
            "         Peach Flat       1.00      1.00      1.00         1\n",
            "               Pear       1.00      1.00      1.00         1\n",
            "             Pear 2       1.00      1.00      1.00         1\n",
            "         Pear Abate       1.00      1.00      1.00         1\n",
            "       Pear Forelle       1.00      1.00      1.00         1\n",
            "        Pear Kaiser       1.00      1.00      1.00         1\n",
            "       Pear Monster       1.00      1.00      1.00         1\n",
            "           Pear Red       1.00      1.00      1.00         1\n",
            "         Pear Stone       1.00      1.00      1.00         1\n",
            "      Pear Williams       1.00      1.00      1.00         1\n",
            "             Pepino       1.00      1.00      1.00         1\n",
            "       Pepper Green       1.00      1.00      1.00         1\n",
            "      Pepper Orange       1.00      1.00      1.00         1\n",
            "         Pepper Red       1.00      1.00      1.00         1\n",
            "      Pepper Yellow       1.00      1.00      1.00         1\n",
            "           Physalis       1.00      1.00      1.00         1\n",
            " Physalis with Husk       1.00      1.00      1.00         1\n",
            "          Pineapple       1.00      1.00      1.00         1\n",
            "     Pineapple Mini       1.00      1.00      1.00         1\n",
            "       Pitahaya Red       1.00      1.00      1.00         1\n",
            "               Plum       1.00      1.00      1.00         1\n",
            "             Plum 2       1.00      1.00      1.00         1\n",
            "             Plum 3       1.00      1.00      1.00         1\n",
            "        Pomegranate       1.00      1.00      1.00         1\n",
            "     Pomelo Sweetie       1.00      1.00      1.00         1\n",
            "         Potato Red       1.00      1.00      1.00         1\n",
            "  Potato Red Washed       1.00      1.00      1.00         1\n",
            "       Potato Sweet       1.00      1.00      1.00         1\n",
            "       Potato White       1.00      1.00      1.00         1\n",
            "             Quince       1.00      1.00      1.00         1\n",
            "           Rambutan       1.00      1.00      1.00         1\n",
            "          Raspberry       1.00      1.00      1.00         1\n",
            "         Redcurrant       1.00      1.00      1.00         1\n",
            "              Salak       1.00      1.00      1.00         1\n",
            "         Strawberry       1.00      1.00      1.00         1\n",
            "   Strawberry Wedge       1.00      1.00      1.00         1\n",
            "          Tamarillo       1.00      1.00      1.00         1\n",
            "            Tangelo       1.00      1.00      1.00         1\n",
            "           Tomato 1       1.00      1.00      1.00         1\n",
            "           Tomato 2       1.00      1.00      1.00         1\n",
            "           Tomato 3       1.00      1.00      1.00         1\n",
            "           Tomato 4       1.00      1.00      1.00         1\n",
            "  Tomato Cherry Red       1.00      1.00      1.00         1\n",
            "       Tomato Heart       1.00      1.00      1.00         1\n",
            "      Tomato Maroon       1.00      1.00      1.00         1\n",
            "      Tomato Yellow       1.00      1.00      1.00         1\n",
            " Tomato not Ripened       1.00      1.00      1.00         1\n",
            "             Walnut       1.00      1.00      1.00         1\n",
            "         Watermelon       1.00      1.00      1.00         1\n",
            "\n",
            "           accuracy                           1.00       131\n",
            "          macro avg       1.00      1.00      1.00       131\n",
            "       weighted avg       1.00      1.00      1.00       131\n",
            "\n"
          ],
          "name": "stdout"
        }
      ]
    },
    {
      "cell_type": "code",
      "metadata": {
        "id": "Cc6rhXBkcf8J",
        "colab_type": "code",
        "outputId": "0ad05c14-83a4-4079-e4bc-6d5cffef5933",
        "colab": {
          "base_uri": "https://localhost:8080/",
          "height": 1000
        }
      },
      "source": [
        "from sklearn.metrics import classification_report\n",
        "input_path=\"/content/val/\"#enter input path for the image to be checked.\n",
        "testing_datagen = ImageDataGenerator(\n",
        "    rescale=1./255)\n",
        "testing_generator = testing_datagen.flow_from_directory(\n",
        "    directory=input_path,\n",
        "    target_size=IMAGE_SIZE,\n",
        "    color_mode=\"rgb\",\n",
        "    batch_size=32,\n",
        "    class_mode=None,\n",
        "    shuffle=False\n",
        ")\n",
        "\n",
        "pred=model2.predict(testing_generator,verbose=1,steps=a/32 +1)\n",
        "predicted_class_indices=np.argmax(pred,axis=1)\n",
        "\n",
        "print(classification_report(testing_generator.classes, predicted_class_indices,\n",
        "\ttarget_names=testing_generator.class_indices.keys()))\n",
        "\n",
        "labels = (train_generator.class_indices)\n",
        "labels = dict((v,k) for k,v in labels.items())\n",
        "predictions = [labels[k] for k in predicted_class_indices]\n",
        "\n",
        "\n",
        "#dataframe\n",
        "filenames=testing_generator.filenames\n",
        "results=pd.DataFrame({\"Filename\":filenames,\n",
        "                      \"Predictions\":predictions})\n",
        "results.to_csv('FruitSubmitInception.csv',index=False)\n"
      ],
      "execution_count": 34,
      "outputs": [
        {
          "output_type": "stream",
          "text": [
            "Found 262 images belonging to 131 classes.\n",
            "8/9 [=========================>....] - ETA: 0sWARNING:tensorflow:Your input ran out of data; interrupting training. Make sure that your dataset or generator can generate at least `steps_per_epoch * epochs` batches (in this case, 9.1875 batches). You may need to use the repeat() function when building your dataset.\n",
            "9/9 [============================>.] - 1s 76ms/step\n",
            "                     precision    recall  f1-score   support\n",
            "\n",
            "     Apple Braeburn       1.00      1.00      1.00         2\n",
            " Apple Crimson Snow       1.00      1.00      1.00         2\n",
            "     Apple Golden 1       1.00      1.00      1.00         2\n",
            "     Apple Golden 2       1.00      1.00      1.00         2\n",
            "     Apple Golden 3       1.00      1.00      1.00         2\n",
            " Apple Granny Smith       1.00      1.00      1.00         2\n",
            "    Apple Pink Lady       1.00      1.00      1.00         2\n",
            "        Apple Red 1       1.00      1.00      1.00         2\n",
            "        Apple Red 2       1.00      1.00      1.00         2\n",
            "        Apple Red 3       1.00      1.00      1.00         2\n",
            "Apple Red Delicious       1.00      1.00      1.00         2\n",
            " Apple Red Yellow 1       1.00      1.00      1.00         2\n",
            " Apple Red Yellow 2       1.00      1.00      1.00         2\n",
            "            Apricot       1.00      1.00      1.00         2\n",
            "            Avocado       1.00      1.00      1.00         2\n",
            "       Avocado ripe       1.00      1.00      1.00         2\n",
            "             Banana       1.00      1.00      1.00         2\n",
            " Banana Lady Finger       1.00      1.00      1.00         2\n",
            "         Banana Red       1.00      1.00      1.00         2\n",
            "           Beetroot       1.00      1.00      1.00         2\n",
            "          Blueberry       1.00      1.00      1.00         2\n",
            "       Cactus fruit       1.00      1.00      1.00         2\n",
            "       Cantaloupe 1       1.00      1.00      1.00         2\n",
            "       Cantaloupe 2       1.00      1.00      1.00         2\n",
            "          Carambula       1.00      1.00      1.00         2\n",
            "        Cauliflower       1.00      1.00      1.00         2\n",
            "           Cherry 1       1.00      1.00      1.00         2\n",
            "           Cherry 2       1.00      1.00      1.00         2\n",
            "     Cherry Rainier       1.00      1.00      1.00         2\n",
            "   Cherry Wax Black       1.00      1.00      1.00         2\n",
            "     Cherry Wax Red       1.00      1.00      1.00         2\n",
            "  Cherry Wax Yellow       1.00      1.00      1.00         2\n",
            "           Chestnut       1.00      1.00      1.00         2\n",
            "         Clementine       1.00      1.00      1.00         2\n",
            "              Cocos       1.00      1.00      1.00         2\n",
            "               Corn       1.00      1.00      1.00         2\n",
            "          Corn Husk       1.00      1.00      1.00         2\n",
            "      Cucumber Ripe       1.00      1.00      1.00         2\n",
            "    Cucumber Ripe 2       1.00      1.00      1.00         2\n",
            "              Dates       1.00      1.00      1.00         2\n",
            "           Eggplant       1.00      1.00      1.00         2\n",
            "                Fig       1.00      1.00      1.00         2\n",
            "        Ginger Root       1.00      1.00      1.00         2\n",
            "         Granadilla       1.00      1.00      1.00         2\n",
            "         Grape Blue       1.00      1.00      1.00         2\n",
            "         Grape Pink       1.00      1.00      1.00         2\n",
            "        Grape White       1.00      1.00      1.00         2\n",
            "      Grape White 2       1.00      1.00      1.00         2\n",
            "      Grape White 3       1.00      1.00      1.00         2\n",
            "      Grape White 4       1.00      1.00      1.00         2\n",
            "    Grapefruit Pink       1.00      1.00      1.00         2\n",
            "   Grapefruit White       1.00      1.00      1.00         2\n",
            "              Guava       1.00      1.00      1.00         2\n",
            "           Hazelnut       1.00      1.00      1.00         2\n",
            "        Huckleberry       1.00      1.00      1.00         2\n",
            "               Kaki       1.00      1.00      1.00         2\n",
            "               Kiwi       1.00      1.00      1.00         2\n",
            "           Kohlrabi       1.00      1.00      1.00         2\n",
            "           Kumquats       1.00      1.00      1.00         2\n",
            "              Lemon       1.00      1.00      1.00         2\n",
            "        Lemon Meyer       1.00      1.00      1.00         2\n",
            "              Limes       1.00      1.00      1.00         2\n",
            "             Lychee       1.00      1.00      1.00         2\n",
            "          Mandarine       1.00      1.00      1.00         2\n",
            "              Mango       1.00      1.00      1.00         2\n",
            "          Mango Red       1.00      1.00      1.00         2\n",
            "          Mangostan       1.00      1.00      1.00         2\n",
            "           Maracuja       1.00      1.00      1.00         2\n",
            " Melon Piel de Sapo       1.00      1.00      1.00         2\n",
            "           Mulberry       1.00      1.00      1.00         2\n",
            "          Nectarine       1.00      1.00      1.00         2\n",
            "     Nectarine Flat       1.00      1.00      1.00         2\n",
            "         Nut Forest       1.00      1.00      1.00         2\n",
            "          Nut Pecan       1.00      1.00      1.00         2\n",
            "          Onion Red       1.00      1.00      1.00         2\n",
            "   Onion Red Peeled       1.00      1.00      1.00         2\n",
            "        Onion White       1.00      1.00      1.00         2\n",
            "             Orange       1.00      1.00      1.00         2\n",
            "             Papaya       1.00      1.00      1.00         2\n",
            "      Passion Fruit       1.00      1.00      1.00         2\n",
            "              Peach       1.00      1.00      1.00         2\n",
            "            Peach 2       1.00      1.00      1.00         2\n",
            "         Peach Flat       1.00      1.00      1.00         2\n",
            "               Pear       1.00      1.00      1.00         2\n",
            "             Pear 2       1.00      1.00      1.00         2\n",
            "         Pear Abate       1.00      1.00      1.00         2\n",
            "       Pear Forelle       1.00      1.00      1.00         2\n",
            "        Pear Kaiser       1.00      1.00      1.00         2\n",
            "       Pear Monster       1.00      1.00      1.00         2\n",
            "           Pear Red       1.00      1.00      1.00         2\n",
            "         Pear Stone       1.00      1.00      1.00         2\n",
            "      Pear Williams       1.00      1.00      1.00         2\n",
            "             Pepino       1.00      1.00      1.00         2\n",
            "       Pepper Green       1.00      1.00      1.00         2\n",
            "      Pepper Orange       1.00      1.00      1.00         2\n",
            "         Pepper Red       1.00      1.00      1.00         2\n",
            "      Pepper Yellow       1.00      1.00      1.00         2\n",
            "           Physalis       1.00      1.00      1.00         2\n",
            " Physalis with Husk       1.00      1.00      1.00         2\n",
            "          Pineapple       1.00      1.00      1.00         2\n",
            "     Pineapple Mini       1.00      1.00      1.00         2\n",
            "       Pitahaya Red       1.00      1.00      1.00         2\n",
            "               Plum       1.00      1.00      1.00         2\n",
            "             Plum 2       1.00      1.00      1.00         2\n",
            "             Plum 3       1.00      1.00      1.00         2\n",
            "        Pomegranate       1.00      1.00      1.00         2\n",
            "     Pomelo Sweetie       1.00      1.00      1.00         2\n",
            "         Potato Red       1.00      1.00      1.00         2\n",
            "  Potato Red Washed       1.00      1.00      1.00         2\n",
            "       Potato Sweet       1.00      1.00      1.00         2\n",
            "       Potato White       1.00      1.00      1.00         2\n",
            "             Quince       1.00      1.00      1.00         2\n",
            "           Rambutan       1.00      1.00      1.00         2\n",
            "          Raspberry       1.00      1.00      1.00         2\n",
            "         Redcurrant       1.00      1.00      1.00         2\n",
            "              Salak       1.00      1.00      1.00         2\n",
            "         Strawberry       1.00      1.00      1.00         2\n",
            "   Strawberry Wedge       1.00      1.00      1.00         2\n",
            "          Tamarillo       1.00      1.00      1.00         2\n",
            "            Tangelo       1.00      1.00      1.00         2\n",
            "           Tomato 1       1.00      1.00      1.00         2\n",
            "           Tomato 2       1.00      1.00      1.00         2\n",
            "           Tomato 3       1.00      1.00      1.00         2\n",
            "           Tomato 4       1.00      1.00      1.00         2\n",
            "  Tomato Cherry Red       1.00      1.00      1.00         2\n",
            "       Tomato Heart       1.00      1.00      1.00         2\n",
            "      Tomato Maroon       1.00      1.00      1.00         2\n",
            "      Tomato Yellow       1.00      1.00      1.00         2\n",
            " Tomato not Ripened       1.00      1.00      1.00         2\n",
            "             Walnut       1.00      1.00      1.00         2\n",
            "         Watermelon       1.00      1.00      1.00         2\n",
            "\n",
            "           accuracy                           1.00       262\n",
            "          macro avg       1.00      1.00      1.00       262\n",
            "       weighted avg       1.00      1.00      1.00       262\n",
            "\n"
          ],
          "name": "stdout"
        }
      ]
    }
  ]
}